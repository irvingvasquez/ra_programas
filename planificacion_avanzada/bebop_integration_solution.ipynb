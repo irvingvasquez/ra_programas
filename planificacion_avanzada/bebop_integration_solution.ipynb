{
 "cells": [
  {
   "cell_type": "markdown",
   "metadata": {},
   "source": [
    "# Bebop Model using Euler Integration"
   ]
  },
  {
   "cell_type": "markdown",
   "metadata": {},
   "source": [
    "We define a input function that depends on the state. It is also called a control funtion.\n",
    "In this excersice we will use the following static control:\n",
    "\n",
    "u = np.array([0.5,0,0,ma.radians(15),0,0])\n"
   ]
  },
  {
   "cell_type": "code",
   "execution_count": null,
   "metadata": {},
   "outputs": [],
   "source": [
    "import numpy as np\n",
    "import math as ma\n",
    "\n",
    "def Input(x):\n",
    "    # define the control that shuld be applied\n",
    "    # u = (v_f, v_l, v_v, w_yaw, w_pitch, w_roll)\n",
    "    u = np.array([0.5,0,0,ma.radians(15),0,0])\n",
    "    return u\n",
    "\n",
    "# Euler integration function\n",
    "# in this case we integrate a number of steps\n",
    "def integrate(F, Input, x, steps, h):\n",
    "    T = []\n",
    "    X = []\n",
    "    t = 0\n",
    "    T.append(t)\n",
    "    X.append(x)\n",
    "    i = 0\n",
    "    while i < steps:\n",
    "        x = x + h * F(x, Input(x))\n",
    "        t = t + h\n",
    "        X.append(x)\n",
    "        T.append(t)\n",
    "        i = i + 1\n",
    "    return np.array(T), np.array(X)"
   ]
  },
  {
   "cell_type": "markdown",
   "metadata": {},
   "source": [
    "### 1. Complete the code\n",
    "\n",
    "Note that the state of the vehicle is defined as follows:\n",
    "x = (x,y,z,yaw(z),pitch(y),roll(x))"
   ]
  },
  {
   "cell_type": "code",
   "execution_count": null,
   "metadata": {
    "collapsed": true
   },
   "outputs": [],
   "source": [
    "#TODO: define the state transition equation for the vehicle\n",
    "def F(x,u):\n",
    "    # X(x)\n",
    "    x_dot = np.array([u[0] * ma.cos(x[3]) - u[1] * ma.sin(x[3]),\n",
    "            u[0] * ma.sin(x[3]) + u[1] * ma.cos(x[3]),\n",
    "            u[2],\n",
    "            u[3],\n",
    "            u[4],\n",
    "            u[5]])\n",
    "    return x_dot"
   ]
  },
  {
   "cell_type": "code",
   "execution_count": null,
   "metadata": {
    "scrolled": true
   },
   "outputs": [],
   "source": [
    "import matplotlib.pyplot as plt\n",
    "\n",
    "#x = np.zeros(6) # Start of integration\n",
    "t = 0\n",
    "# initial state\n",
    "x = np.array([1,1,0,0,0,0])\n",
    "\n",
    "steps = 100 # End of integration\n",
    "h = 0.05 # Step size\n",
    "\n",
    "T,X = integrate(F,Input,x,steps,h)\n",
    "\n",
    "plt.plot(X[:,0],X[:,1],'-')\n",
    "plt.grid(True)\n",
    "plt.xlabel('x'); plt.ylabel('y')\n",
    "plt.legend(('Numerical'),loc=0)\n",
    "plt.show()"
   ]
  },
  {
   "cell_type": "markdown",
   "metadata": {},
   "source": [
    "### 2. Answer the following questions:\n",
    "\n",
    "- Let us assume the step size unit as seconds. How much time is represented in the simulation?\n",
    "\n",
    "- Explain the behaviour of described in the graph\n",
    "\n",
    "### 3. Change the input of the model, save the graph and describe the new behaviour"
   ]
  },
  {
   "cell_type": "code",
   "execution_count": null,
   "metadata": {
    "collapsed": true
   },
   "outputs": [],
   "source": []
  }
 ],
 "metadata": {
  "kernelspec": {
   "display_name": "Python 3",
   "language": "python",
   "name": "python3"
  },
  "language_info": {
   "codemirror_mode": {
    "name": "ipython",
    "version": 3
   },
   "file_extension": ".py",
   "mimetype": "text/x-python",
   "name": "python",
   "nbconvert_exporter": "python",
   "pygments_lexer": "ipython3",
   "version": "3.6.3"
  }
 },
 "nbformat": 4,
 "nbformat_minor": 2
}
