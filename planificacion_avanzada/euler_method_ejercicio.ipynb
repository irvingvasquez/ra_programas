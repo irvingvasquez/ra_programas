{
 "cells": [
  {
   "cell_type": "markdown",
   "metadata": {},
   "source": [
    "# Euler method\n",
    "\n",
    "Euler’s method of solution is conceptually simple. Its basis is the truncated Taylor\n",
    "series of y about x:\n",
    "\n",
    "<img src=\"files/trunc_taylor.jpg\">\n",
    "\n",
    "\n",
    "Because previous equation predicts y at x + h from the information available at x, it can be\n",
    "used to move the solution forward in steps of h, starting with the given initial values\n",
    "of x and y.\n",
    "\n",
    "The error in  previous Eq.  is caused by truncation of the Taylor series is given by:\n",
    "\n",
    "<img src=\"files/error.jpg\">\n",
    "\n",
    "\n"
   ]
  },
  {
   "cell_type": "code",
   "execution_count": 1,
   "metadata": {
    "collapsed": true
   },
   "outputs": [],
   "source": [
    "## module euler\n",
    "'''X,Y = integrate(F,x,y,xStop,h).\n",
    "Euler’s method for solving the\n",
    "initial value problem {y}’ = {F(x,{y})}, where\n",
    "{y} = {y[0],y[1],...y[n-1]}.\n",
    "x,y = initial conditions\n",
    "xStop = terminal value of x\n",
    "h = increment of x used in integration\n",
    "F = user-supplied function that returns the\n",
    "array F(x,y) = {y’[0],y’[1],...,y’[n-1]}.\n",
    "'''\n",
    "\n",
    "import numpy as np\n",
    "def integrate(F,x,y,xStop,h):\n",
    "    X = []\n",
    "    Y = []\n",
    "    X.append(x)\n",
    "    Y.append(y)\n",
    "    while x < xStop:\n",
    "        h = min(h, xStop - x)\n",
    "        \n",
    "        # TODO: estimate the value of y using the truncated taylor series\n",
    "        y = 0 #\n",
    "        \n",
    "        x = x + h\n",
    "        X.append(x)\n",
    "        Y.append(y)\n",
    "    return np.array(X), np.array(Y)"
   ]
  },
  {
   "cell_type": "markdown",
   "metadata": {},
   "source": [
    "We use this function to print X and Y obtained from numerical integration. The\n",
    "amount of data is controlled by the parameter freq . For example, if freq = 5 , ev-\n",
    "ery fifth integration step would be displayed. If freq = 0 , only the initial and final\n",
    "values will be shown."
   ]
  },
  {
   "cell_type": "code",
   "execution_count": 3,
   "metadata": {
    "collapsed": true
   },
   "outputs": [],
   "source": [
    "## module printSoln\n",
    "'''printSoln(X,Y,freq).\n",
    "Prints X and Y returned from the differential\n",
    "equation solvers using printout frequency ’freq’.\n",
    "freq = n prints every nth step.\n",
    "freq = 0 prints initial and final values only.\n",
    "'''\n",
    "\n",
    "def printSoln(X, Y, frec):\n",
    "    \n",
    "    def printHead(n):\n",
    "        print(\"\\n       x   \")\n",
    "        for i in range(n):\n",
    "            print(\"    y[\", i, \"] \", end = \"\")\n",
    "        print()\n",
    "        \n",
    "    def printLine(x,y,n):\n",
    "        print(\"{:13.4e}\".format(x),end=\" \")\n",
    "        for i in range(n):\n",
    "            print(\"{:13.4e}\".format(y[i]),end=\" \")\n",
    "        print()\n",
    "        \n",
    "    m = len(Y)\n",
    "    try: n = len(Y[0])\n",
    "    except TypeError: n = 1\n",
    "    if freq == 0: freq = m\n",
    "    printHead(n)\n",
    "    for i in range(0,m,freq):\n",
    "        printLine(X[i], Y[i], n)\n",
    "    if i != m-1: printLine(X[m-1],Y[m-1],n)\n",
    "        \n"
   ]
  },
  {
   "cell_type": "markdown",
   "metadata": {},
   "source": [
    "Integrate the initial value problem\n",
    "\n",
    "<img src=\"files/diff_eq_ej1.jpg\">\n",
    "\n",
    "from x = 0 to 2 with Euler’s method using h = 0.05. Plot the computed y together\n",
    "with the analytical solution,\n",
    "\n",
    "<img src=\"files/diff_eq_ej2.jpg\">\n",
    "\n",
    "Solution. With the notation y_0 = y and y_1 = y' the equivalent first-order equations\n",
    "and the initial conditions are:\n",
    "\n",
    "<img src=\"files/diff_eq_ej3.jpg\">\n",
    "\n",
    "\n",
    "Here is a program that uses the function euler :"
   ]
  },
  {
   "cell_type": "code",
   "execution_count": 1,
   "metadata": {},
   "outputs": [
    {
     "ename": "NameError",
     "evalue": "name 'integrate' is not defined",
     "output_type": "error",
     "traceback": [
      "\u001b[0;31m---------------------------------------------------------------------------\u001b[0m",
      "\u001b[0;31mNameError\u001b[0m                                 Traceback (most recent call last)",
      "\u001b[0;32m<ipython-input-1-903d63241130>\u001b[0m in \u001b[0;36m<module>\u001b[0;34m()\u001b[0m\n\u001b[1;32m     14\u001b[0m \u001b[0mh\u001b[0m \u001b[0;34m=\u001b[0m \u001b[0;36m0.05\u001b[0m \u001b[0;31m# Step size\u001b[0m\u001b[0;34m\u001b[0m\u001b[0m\n\u001b[1;32m     15\u001b[0m \u001b[0;34m\u001b[0m\u001b[0m\n\u001b[0;32m---> 16\u001b[0;31m \u001b[0mX\u001b[0m\u001b[0;34m,\u001b[0m\u001b[0mY\u001b[0m \u001b[0;34m=\u001b[0m \u001b[0mintegrate\u001b[0m\u001b[0;34m(\u001b[0m\u001b[0mF\u001b[0m\u001b[0;34m,\u001b[0m\u001b[0mx\u001b[0m\u001b[0;34m,\u001b[0m\u001b[0my\u001b[0m\u001b[0;34m,\u001b[0m\u001b[0mxStop\u001b[0m\u001b[0;34m,\u001b[0m\u001b[0mh\u001b[0m\u001b[0;34m)\u001b[0m\u001b[0;34m\u001b[0m\u001b[0m\n\u001b[0m\u001b[1;32m     17\u001b[0m \u001b[0myExact\u001b[0m \u001b[0;34m=\u001b[0m \u001b[0;36m100.0\u001b[0m\u001b[0;34m*\u001b[0m\u001b[0mX\u001b[0m \u001b[0;34m-\u001b[0m \u001b[0;36m5.0\u001b[0m\u001b[0;34m*\u001b[0m\u001b[0mX\u001b[0m\u001b[0;34m**\u001b[0m\u001b[0;36m2\u001b[0m \u001b[0;34m+\u001b[0m \u001b[0;36m990.0\u001b[0m\u001b[0;34m*\u001b[0m\u001b[0;34m(\u001b[0m\u001b[0mnp\u001b[0m\u001b[0;34m.\u001b[0m\u001b[0mexp\u001b[0m\u001b[0;34m(\u001b[0m\u001b[0;34m-\u001b[0m\u001b[0;36m0.1\u001b[0m\u001b[0;34m*\u001b[0m\u001b[0mX\u001b[0m\u001b[0;34m)\u001b[0m \u001b[0;34m-\u001b[0m \u001b[0;36m1.0\u001b[0m\u001b[0;34m)\u001b[0m\u001b[0;34m\u001b[0m\u001b[0m\n\u001b[1;32m     18\u001b[0m \u001b[0mplt\u001b[0m\u001b[0;34m.\u001b[0m\u001b[0mplot\u001b[0m\u001b[0;34m(\u001b[0m\u001b[0mX\u001b[0m\u001b[0;34m,\u001b[0m\u001b[0mY\u001b[0m\u001b[0;34m[\u001b[0m\u001b[0;34m:\u001b[0m\u001b[0;34m,\u001b[0m\u001b[0;36m0\u001b[0m\u001b[0;34m]\u001b[0m\u001b[0;34m,\u001b[0m\u001b[0;34m'o'\u001b[0m\u001b[0;34m,\u001b[0m\u001b[0mX\u001b[0m\u001b[0;34m,\u001b[0m\u001b[0myExact\u001b[0m\u001b[0;34m,\u001b[0m\u001b[0;34m'-'\u001b[0m\u001b[0;34m)\u001b[0m\u001b[0;34m\u001b[0m\u001b[0m\n",
      "\u001b[0;31mNameError\u001b[0m: name 'integrate' is not defined"
     ]
    }
   ],
   "source": [
    "import numpy as np\n",
    "import matplotlib.pyplot as plt\n",
    "\n",
    "def F(x,y):\n",
    "    F = np.zeros(2)\n",
    "    # TODO Define the first order equations\n",
    "    F[0] = 0 #\n",
    "    F[1] = 0 #\n",
    "    return F\n",
    "\n",
    "x = 0.0 # Start of integration\n",
    "xStop = 2.0 # End of integration\n",
    "y = np.array([0.0, 1.0]) # Initial values of {y}\n",
    "h = 0.05 # Step size\n",
    "\n",
    "X,Y = integrate(F,x,y,xStop,h)\n",
    "yExact = 100.0*X - 5.0*X**2 + 990.0*(np.exp(-0.1*X) - 1.0)\n",
    "plt.plot(X,Y[:,0],'o',X,yExact,'-')\n",
    "plt.grid(True)\n",
    "plt.xlabel('x'); plt.ylabel('y')\n",
    "plt.legend(('Numerical','Exact'),loc=0)\n",
    "plt.show()"
   ]
  },
  {
   "cell_type": "code",
   "execution_count": null,
   "metadata": {
    "collapsed": true
   },
   "outputs": [],
   "source": []
  }
 ],
 "metadata": {
  "kernelspec": {
   "display_name": "Python 3",
   "language": "python",
   "name": "python3"
  },
  "language_info": {
   "codemirror_mode": {
    "name": "ipython",
    "version": 3
   },
   "file_extension": ".py",
   "mimetype": "text/x-python",
   "name": "python",
   "nbconvert_exporter": "python",
   "pygments_lexer": "ipython3",
   "version": "3.6.3"
  }
 },
 "nbformat": 4,
 "nbformat_minor": 2
}
