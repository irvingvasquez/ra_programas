{
 "cells": [
  {
   "cell_type": "markdown",
   "metadata": {},
   "source": [
    "# Trajectory generation \n",
    "\n",
    "From the path planning module you learned how to obtain waypoints that connect the initial and the goal locations. But we need to be able to calculate the target position at some *arbitrary* time $t$. So we need a way to convert **discrete** waypoints into a **continuous** path.  \n",
    "\n",
    "### Line segmentation \n",
    "\n",
    "Let's start with a one-dimensional example where we only know the $x$ position in time. Additionally, we want the drone to change position at constant speed. The task is to use the position $x$ and time $t$ **arrays** and provide the position and velocity value to the drone's controller at any time instance. \n",
    "\n",
    "\n",
    "<img src=\"OneD2.png\" width=\"450\">\n",
    "\n",
    "For any desired time $t_{now}$ let us first find the line segment associated with the given time - the segment for which $t_i<t_{now}<t_{i+1}$. The goal is to fly the drone between two positions $P_i$ and $P_{i+1}$ with the constant velocity which will bring the drone from point $x_i$ and time $t_i$ into point $x_{i+1}$ at time $t_{i+1}$.\n",
    "\n",
    "In order to guide the drone controller to execute the given flight, we will provide the target position $x_{target}$ and velocity $v_{target}$ at $t_{now}$."
   ]
  },
  {
   "cell_type": "code",
   "execution_count": null,
   "metadata": {},
   "outputs": [],
   "source": [
    "%matplotlib inline \n",
    "%config InlineBackend.figure_format = 'retina'\n",
    "\n",
    "import numpy as np \n",
    "import matplotlib.pyplot as plt\n",
    "import matplotlib.pylab as pylab\n",
    "from mpl_toolkits.mplot3d import Axes3D\n",
    "import jdc\n",
    "\n",
    "np.set_printoptions(precision=3)\n",
    "pylab.rcParams['figure.figsize'] = 10, 10"
   ]
  },
  {
   "cell_type": "markdown",
   "metadata": {},
   "source": [
    "Determining which segment the drone should be at given $t_{now}$. The input parameters include $t$ vector for each waypoint from initial til the last one and $t_{now}$ relative to which we need to determine the segment on which the drone is. "
   ]
  },
  {
   "cell_type": "code",
   "execution_count": null,
   "metadata": {},
   "outputs": [],
   "source": [
    "def line_segment(t,    # Array of times for each position\n",
    "                 t_now # Current time (float)\n",
    "                ):\n",
    "    \"\"\"\n",
    "    Returns the start and end index corresponding to the line\n",
    "    segment in which t_now occurs.\n",
    "    \"\"\"\n",
    "    i = np.argwhere(t>t_now)\n",
    "    if len(i)>0: \n",
    "        if i[0]!=0: # if the current time is not less than the starting time \n",
    "            segment_starting_index = i[0][0]-1\n",
    "        else: \n",
    "            segment_starting_index = 0\n",
    "\n",
    "        segment_end_index = i[0][0]\n",
    "        \n",
    "    else: # if the current time is more than the last point (destination) time\n",
    "        segment_starting_index = t.shape[0]\n",
    "        segment_end_index = t.shape[0]\n",
    "    \n",
    "    return segment_starting_index, segment_end_index"
   ]
  },
  {
   "cell_type": "code",
   "execution_count": null,
   "metadata": {},
   "outputs": [],
   "source": [
    "#     index:  0    1    2    3    4\n",
    "t = np.array([1.2, 3.4, 5.7, 6.2, 7.9])\n",
    "\n",
    "t_now = 4.1 # this is between index 1 and 2\n",
    "\n",
    "line_segment(t, t_now)"
   ]
  },
  {
   "cell_type": "markdown",
   "metadata": {},
   "source": [
    "Now that we know how to find the starting and end index of the segment on which the drone needs to be we can find the desired position and velocity. Keep in mind that in this exercise we are assuming that we want the drone to have a constant speed along the entire segment between $x_i$ and $x_{i+1}$."
   ]
  },
  {
   "cell_type": "code",
   "execution_count": null,
   "metadata": {},
   "outputs": [],
   "source": [
    "def commanded_values(x,     # Array of x positions \n",
    "                     t,     # Array of times for each position\n",
    "                     t_now, # Current time \n",
    "                     segment_starting_index, \n",
    "                     segment_end_index\n",
    "                     ):\n",
    "    \n",
    "    start_x = x[segment_starting_index]\n",
    "    end_x   = x[segment_end_index]\n",
    "    delta_x = end_x - start_x\n",
    "    \n",
    "    start_t = t[segment_starting_index]\n",
    "    end_t   = t[segment_end_index]\n",
    "    delta_t = end_t - start_t\n",
    "    \n",
    "    v     = delta_x / delta_t\n",
    "    x_now = start_x + v * (t_now - start_t)\n",
    "             \n",
    "    return np.array([x_now, v])"
   ]
  },
  {
   "cell_type": "code",
   "execution_count": null,
   "metadata": {},
   "outputs": [],
   "source": [
    "# example usage\n",
    "\n",
    "x = np.array([0,   1,   3,   6,   10])\n",
    "t = np.array([1.2, 3.4, 5.7, 6.2, 7.9])\n",
    "\n",
    "t_now = 2.3 # directly between t[0] and t[1]\n",
    "\n",
    "start, end = line_segment(t, t_now)\n",
    "\n",
    "commanded_values(x,t,t_now, start, end)"
   ]
  },
  {
   "cell_type": "markdown",
   "metadata": {},
   "source": [
    "### Defining the parameters\n",
    "We will use the periodic trajectory which is given every second and connected by straight lines $x = \\sin{\\omega_x t}$."
   ]
  },
  {
   "cell_type": "code",
   "execution_count": null,
   "metadata": {},
   "outputs": [],
   "source": [
    "t = np.linspace(0,10,10)\n",
    "x = np.zeros(t.shape)\n",
    "\n",
    "omega_x = 0.8\n",
    "x = np.sin(omega_x*t)\n",
    "plt.plot(t,x)\n",
    "plt.show()"
   ]
  },
  {
   "cell_type": "markdown",
   "metadata": {},
   "source": [
    "Calculating the desired position and velocity for a given time $t_{now} = 2.8$. "
   ]
  },
  {
   "cell_type": "code",
   "execution_count": null,
   "metadata": {},
   "outputs": [],
   "source": [
    "t_now = 2.8\n",
    "\n",
    "segment_starting_index, segment_end_index = line_segment(t,t_now)\n",
    "\n",
    "target_parameters = commanded_values(x,\n",
    "                                     t,\n",
    "                                     t_now,\n",
    "                                     segment_starting_index,\n",
    "                                     segment_end_index)\n",
    "\n",
    "\n",
    "print('Target position and velocity ',target_parameters)"
   ]
  },
  {
   "cell_type": "markdown",
   "metadata": {},
   "source": [
    "Plotting the path with the current position."
   ]
  },
  {
   "cell_type": "code",
   "execution_count": null,
   "metadata": {},
   "outputs": [],
   "source": [
    "plt.plot(t,x,marker='.')\n",
    "plt.scatter(t_now,target_parameters[0],marker='o',color='red')\n",
    "plt.title('Flight trajectory').set_fontsize(20)\n",
    "plt.xlabel('$t$ [$s$]').set_fontsize(20)\n",
    "plt.ylabel('$x$ [$m$]').set_fontsize(20)\n",
    "plt.xticks(fontsize = 14)\n",
    "plt.yticks(fontsize = 14)\n",
    "plt.show()"
   ]
  },
  {
   "cell_type": "markdown",
   "metadata": {},
   "source": [
    "# Generalizing into 3D\n",
    "\n",
    "Now that we know how to find the target position and velocity at any time in one dimension we can do the same for a full three-dimensional trajectory.\n",
    "\n",
    "We would like to fly the drone in a line connecting two waypoints $P_i$ and $P_{i+1}$ with a velocity which will bring the drone from point $(x_i,y_i,z_i)$ and time $t_i$ to point $(x_{i+1},y_{i+1},z_{i+1})$ at time $t_{i+1}$. Also we will impose the additional condition that the drone needs to be facing toward the goal position. \n",
    "\n",
    "Similarly for any desired time $t_{now}$ we will calculate the line segment associated with the given time. If $t_{now}$ is less than $t_0$ then the drone should not be moving and if $t_{now}$ is more than $t_{last}$ then the drone should not be moving as well. In all other cases, the drone should be on the segment of the trajectory between $i$ and $i+1$.\n",
    "\n",
    "Now that we know how to obtain the starting and end index of the segment on which the drone needs to be we can obtain the desired position, velocity and yaw. \n",
    "\n",
    "**Note** if the drone is moving vertically up or down the yaw value is not important. It can be left unchanged from the previous values.\n",
    "\n",
    "For the three dimensional description we will replace $x$ variable with $p$ which will contain all three elements of the point $p_i=(x_i,y_i,z_i)$"
   ]
  },
  {
   "cell_type": "code",
   "execution_count": null,
   "metadata": {},
   "outputs": [],
   "source": [
    "def commanded_values_3d(p,     # Array of points\n",
    "                        t,     # Array of time \n",
    "                        t_now, # Current time \n",
    "                        segment_starting_index,\n",
    "                        segment_end_index,\n",
    "                        previous_psi):\n",
    "    \n",
    "    x = p[0,:]\n",
    "    y = p[1,:]\n",
    "    z = p[2,:] \n",
    "    \n",
    "    # calculating the velocities \n",
    "    v_x_now = (x[segment_end_index] - x[segment_starting_index]) \\\n",
    "            / (t[segment_end_index] - t[segment_starting_index])\n",
    "    v_y_now = (y[segment_end_index] - y[segment_starting_index]) \\\n",
    "            / (t[segment_end_index] - t[segment_starting_index])\n",
    "    v_z_now = (z[segment_end_index] - z[segment_starting_index]) \\\n",
    "            / (t[segment_end_index] - t[segment_starting_index])\n",
    "    \n",
    "    # calculating the position\n",
    "    x_now = x[segment_starting_index] + v_x_now * (t_now - t[segment_starting_index])\n",
    "    \n",
    "    y_now = y[segment_starting_index] + v_y_now * (t_now - t[segment_starting_index])\n",
    "            \n",
    "    z_now = z[segment_starting_index] + v_z_now * (t_now - t[segment_starting_index])\n",
    "    \n",
    "    # If drone does not move vertically up. \n",
    "    if x[segment_end_index]!=x[segment_starting_index] and \\\n",
    "       y[segment_end_index]!=y[segment_starting_index]:\n",
    "        \n",
    "        psi_now = np.arctan2((y[segment_end_index] - y[segment_starting_index]),\n",
    "                             (x[segment_end_index] - x[segment_starting_index]))\n",
    "    else:\n",
    "        psi_now = previous_psi\n",
    "                           \n",
    "    return np.array([x_now, y_now, z_now, v_x_now, v_y_now, v_z_now, psi_now])"
   ]
  },
  {
   "cell_type": "markdown",
   "metadata": {},
   "source": [
    "### Defining the parameters\n",
    "We will use the familiar three-dimensional trajectory that consists of periodic functions. \n",
    "$$\n",
    "\\begin{align}\n",
    "x &= \\sin{\\omega_x t} \\\\\n",
    "y &= \\cos{\\omega_y t} \\\\\n",
    "z &= \\cos{\\omega_z t} \\\\\n",
    "\\end{align}\n",
    "$$\n",
    "$\\omega_z = \\omega_y = \\omega_x/2$. But will discretize them for each second, resulting in the discontinious path. "
   ]
  },
  {
   "cell_type": "code",
   "execution_count": null,
   "metadata": {},
   "outputs": [],
   "source": [
    "t = np.linspace(0,10,10)\n",
    "p = np.zeros((3,t.shape[0]))\n",
    "\n",
    "omega_x = 0.8\n",
    "omega_y = 0.4\n",
    "omega_z = 0.4\n",
    "x_amp = 1.0\n",
    "y_amp = 1.0\n",
    "z_amp = 1.0\n",
    "\n",
    "p[0,:] = x_amp*np.sin(omega_x*t)\n",
    "p[1,:] = y_amp*np.cos(omega_y*t)\n",
    "p[2,:] = z_amp*np.cos(omega_z*t)"
   ]
  },
  {
   "cell_type": "markdown",
   "metadata": {},
   "source": [
    "Calculating the desired position, velocity and yaw for a given time $t_{now} = 2.8$. "
   ]
  },
  {
   "cell_type": "code",
   "execution_count": null,
   "metadata": {},
   "outputs": [],
   "source": [
    "t_now = 2.8\n",
    "previous_psi = 0\n",
    "\n",
    "segment_starting_index, segment_end_index = line_segment(t,t_now)\n",
    "\n",
    "target_parameters = commanded_values_3d(p,\n",
    "                                       t,\n",
    "                                       t_now,\n",
    "                                       segment_starting_index,\n",
    "                                       segment_end_index,\n",
    "                                       previous_psi)\n",
    "\n",
    "print('Target location (x, y, z) =', target_parameters[0:3])\n",
    "print('Target velocities (v_x, v_y, v_z) = ', target_parameters[3:6])\n",
    "print('Target yaw angle %5.3f'%target_parameters[6])"
   ]
  },
  {
   "cell_type": "markdown",
   "metadata": {},
   "source": [
    "Plotting the flight path with the current position, velocity and yaw."
   ]
  },
  {
   "cell_type": "code",
   "execution_count": null,
   "metadata": {},
   "outputs": [],
   "source": [
    "x_path=p[0,:]\n",
    "y_path=p[1,:]\n",
    "z_path=p[2,:]\n",
    "\n",
    "x_now = target_parameters[0] \n",
    "y_now = target_parameters[1] \n",
    "z_now = target_parameters[2] \n",
    "\n",
    "v_x_now = target_parameters[3] \n",
    "v_y_now = target_parameters[4] \n",
    "v_z_now = target_parameters[5] \n",
    "\n",
    "psi_now = target_parameters[6] \n",
    "\n",
    "u = np.cos(psi_now) \n",
    "v = np.sin(psi_now) \n",
    "w = 0\n",
    "    \n",
    "fig = plt.figure() \n",
    "ax = fig.gca(projection='3d')\n",
    "\n",
    "ax.plot(x_path, y_path, z_path, marker ='.')\n",
    "ax.quiver(x_now, y_now, z_now, u, v, w, length=1.0, normalize=True,color='green')\n",
    "ax.quiver(x_now, y_now, z_now, v_x_now, v_y_now, v_z_now,color='Red')\n",
    "ax.scatter(x_now, y_now, z_now, marker ='o',color='red')\n",
    "\n",
    "plt.title('Flight path').set_fontsize(20)\n",
    "ax.set_xlabel('$x$ [$m$]').set_fontsize(20)\n",
    "ax.set_ylabel('$y$ [$m$]').set_fontsize(20)\n",
    "ax.set_zlabel('$z$ [$m$]').set_fontsize(20)\n",
    "plt.legend(['Planned path','$\\psi$','Velocity'],fontsize = 14)\n",
    "ax.set_xlim(-1.0, 1.0)\n",
    "ax.set_ylim(-1.0, 1.0)\n",
    "ax.set_zlim(-1.0, 1.0)\n",
    "plt.show()"
   ]
  },
  {
   "cell_type": "markdown",
   "metadata": {},
   "source": [
    "This is a naive approach to waypoint smoothing and it results in trajectories which aren't actually feasible. But this is very similar to the code you will see in the Python portion of the final project in a function called `trajectory_control`."
   ]
  },
  {
   "cell_type": "code",
   "execution_count": null,
   "metadata": {},
   "outputs": [],
   "source": []
  },
  {
   "cell_type": "code",
   "execution_count": null,
   "metadata": {},
   "outputs": [],
   "source": []
  }
 ],
 "metadata": {
  "kernelspec": {
   "display_name": "Python 3",
   "language": "python",
   "name": "python3"
  },
  "language_info": {
   "codemirror_mode": {
    "name": "ipython",
    "version": 3
   },
   "file_extension": ".py",
   "mimetype": "text/x-python",
   "name": "python",
   "nbconvert_exporter": "python",
   "pygments_lexer": "ipython3",
   "version": "3.6.3"
  }
 },
 "nbformat": 4,
 "nbformat_minor": 2
}
