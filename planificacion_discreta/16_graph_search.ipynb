{
 "cells": [
  {
   "cell_type": "markdown",
   "metadata": {},
   "source": [
    "## Finding Your Way In The City (Graph Edition)\n",
    "In this notebook your attention will shift from grids to graphs. At least for search ... \n",
    "\n",
    "Using Voronoi graphs and the medial axis transform we can find paths which maximize safety from obstacles. In addition, graph representation allows further optimizations and more succinct queries."
   ]
  },
  {
   "cell_type": "code",
   "execution_count": null,
   "metadata": {
    "scrolled": false
   },
   "outputs": [],
   "source": [
    "# OK this might look a little ugly but...\n",
    "# need to import the latest version of networkx\n",
    "# This occassionally fails, so if the next cell \n",
    "# doesn't show that you're using networkx 2.1\n",
    "# please \"restart and clear output\" from \"Kernel\" menu\n",
    "# above and try again.\n",
    "import sys\n",
    "!{sys.executable} -m pip install -Iv networkx==2.1\n",
    "import pkg_resources\n",
    "pkg_resources.require(\"networkx==2.1\")\n",
    "import networkx as nx"
   ]
  },
  {
   "cell_type": "code",
   "execution_count": null,
   "metadata": {},
   "outputs": [],
   "source": [
    "nx.__version__ # should be 2.1"
   ]
  },
  {
   "cell_type": "code",
   "execution_count": null,
   "metadata": {},
   "outputs": [],
   "source": [
    "import numpy as np\n",
    "import matplotlib.pyplot as plt\n",
    "from grid16 import create_grid_and_edges\n",
    "import numpy.linalg as LA\n",
    "%matplotlib inline "
   ]
  },
  {
   "cell_type": "code",
   "execution_count": null,
   "metadata": {},
   "outputs": [],
   "source": [
    "plt.rcParams['figure.figsize'] = 12, 12"
   ]
  },
  {
   "cell_type": "code",
   "execution_count": null,
   "metadata": {},
   "outputs": [],
   "source": [
    "# This is the same obstacle data from the previous lesson.\n",
    "filename = 'colliders.csv'\n",
    "data = np.loadtxt(filename, delimiter=',', dtype='Float64', skiprows=2)\n",
    "print(data)"
   ]
  },
  {
   "cell_type": "markdown",
   "metadata": {},
   "source": [
    "Starting and goal positions in *(north, east)*."
   ]
  },
  {
   "cell_type": "code",
   "execution_count": null,
   "metadata": {},
   "outputs": [],
   "source": [
    "start_ne = (25,  100)\n",
    "goal_ne = (750., 370.)"
   ]
  },
  {
   "cell_type": "code",
   "execution_count": null,
   "metadata": {},
   "outputs": [],
   "source": [
    "# Static drone altitude (metres)\n",
    "drone_altitude = 5\n",
    "safety_distance = 3"
   ]
  },
  {
   "cell_type": "code",
   "execution_count": null,
   "metadata": {},
   "outputs": [],
   "source": [
    "# This is now the routine using Voronoi\n",
    "grid, edges = create_grid_and_edges(data, drone_altitude, safety_distance)\n",
    "print(len(edges))"
   ]
  },
  {
   "cell_type": "markdown",
   "metadata": {},
   "source": [
    "Plot the edges on top of the grid along with start and goal locations."
   ]
  },
  {
   "cell_type": "code",
   "execution_count": null,
   "metadata": {},
   "outputs": [],
   "source": [
    "# equivalent to\n",
    "# plt.imshow(np.flip(grid, 0))\n",
    "plt.imshow(grid, origin='lower', cmap='Greys') \n",
    "\n",
    "for e in edges:\n",
    "    p1 = e[0]\n",
    "    p2 = e[1]\n",
    "    plt.plot([p1[1], p2[1]], [p1[0], p2[0]], 'b-')\n",
    "\n",
    "    \n",
    "plt.plot(start_ne[1], start_ne[0], 'rx')\n",
    "plt.plot(goal_ne[1], goal_ne[0], 'rx')\n",
    "\n",
    "plt.xlabel('EAST')\n",
    "plt.ylabel('NORTH')\n",
    "plt.show()"
   ]
  },
  {
   "cell_type": "markdown",
   "metadata": {},
   "source": [
    "We now have a graph, well at least visually. The next step is to use the [`networkx`](https://networkx.github.io) to create the graph. **NetworkX** is a popular library handling anything and everything related to graph data structures and algorithms.\n",
    "\n",
    "**NOTE:** In the initial import above it was imported with the `nx` alias.\n",
    "\n",
    "You're encouraged to read the documentation but here's a super quick tour:\n",
    "\n",
    "1. Create a graph:\n",
    "\n",
    "```\n",
    "G = nx.Graph()\n",
    "```\n",
    "\n",
    "2. Add an edge:\n",
    "\n",
    "```\n",
    "p1 = (10, 2.2)\n",
    "p2 = (50, 40)\n",
    "G = nx.add_edge(p1, p2)\n",
    "```\n",
    "\n",
    "3 Add an edge with a weight:\n",
    "\n",
    "```\n",
    "p1 = (10, 2.2)\n",
    "p2 = (50, 40)\n",
    "dist = LA.norm(np.array(p2) - np.array(p1))\n",
    "G = nx.add_edge(p1, p2, weight=dist)\n",
    "```"
   ]
  },
  {
   "cell_type": "code",
   "execution_count": null,
   "metadata": {},
   "outputs": [],
   "source": [
    "# TODO: create the graph with the weight of the edges\n",
    "# set to the Euclidean distance between the points\n",
    "G = nx.Graph()\n",
    "\n",
    "for e in edges:\n",
    "    p1 = e[0]\n",
    "    p2 = e[1]\n",
    "    dist = None\n",
    "    G.add_edge(p1, p2, weight=dist)"
   ]
  },
  {
   "cell_type": "markdown",
   "metadata": {},
   "source": [
    "You need a method to search the graph, and you'll adapt A* in order to do this. The notable differences being the actions are now the outgoing edges and the cost of an action is that weight of that edge."
   ]
  },
  {
   "cell_type": "code",
   "execution_count": null,
   "metadata": {},
   "outputs": [],
   "source": [
    "from queue import PriorityQueue\n",
    "\n",
    "def heuristic(n1, n2):\n",
    "    #TODO: define a heuristic\n",
    "    #print(n1, n2)\n",
    "    p1 = np.array(n1)\n",
    "    p2 = np.array(n2)\n",
    "    h = np.sqrt(np.sum((p1-p2)**2))\n",
    "    return 0\n",
    "\n",
    "###### THIS IS YOUR OLD GRID-BASED A* IMPLEMENTATION #######\n",
    "###### With a few minor modifications it can work with graphs! ####\n",
    "#TODO: modify A* to work with a graph\n",
    "def a_star(graph, heuristic, start, goal):\n",
    "    \n",
    "    path = []\n",
    "    queue = PriorityQueue()\n",
    "    queue.put((0, start))\n",
    "    visited = set(start)\n",
    "\n",
    "    branch = {}\n",
    "    found = False\n",
    "    \n",
    "    while not queue.empty():\n",
    "        item = queue.get()\n",
    "        current_cost = item[0]\n",
    "        current_node = item[1]\n",
    "\n",
    "        if current_node == goal:        \n",
    "            print('Found a path.')\n",
    "            found = True\n",
    "            break\n",
    "            \n",
    "        else:\n",
    "            for next_node in graph[current_node]:\n",
    "                # get the tuple representation\n",
    "                #cost = graph.edges[current_node, next_node]['weight']\n",
    "                #new_cost = current_cost + cost + heuristic(next_node, goal)\n",
    "                \n",
    "                if next_node not in visited:                \n",
    "                    #visited.add(next_node)               \n",
    "                    #queue.put((new_cost, next_node))\n",
    "                    \n",
    "                    #branch[next_node] = (new_cost, current_node)\n",
    "             \n",
    "    path = []\n",
    "    path_cost = 0\n",
    "    if found:\n",
    "        \n",
    "        # retrace steps\n",
    "        path = []\n",
    "        n = goal\n",
    "        path_cost = branch[n][0]\n",
    "        while branch[n][1] != start:\n",
    "            path.append(branch[n][1])\n",
    "            n = branch[n][1]\n",
    "        path.append(branch[n][1])\n",
    "            \n",
    "    return path[::-1], path_cost"
   ]
  },
  {
   "cell_type": "markdown",
   "metadata": {},
   "source": [
    "### Solution\n",
    "\n",
    "This solution consists of two parts:\n",
    "\n",
    "1. Find the closest point in the graph to our current location, same thing for the goal location.\n",
    "2. Compute the path from the two points in the graph using the A* algorithm.\n",
    "3. Feel free to use any of the path pruning techniques to make the path even smaller! \n",
    "4. Plot it up to see the results!"
   ]
  },
  {
   "cell_type": "markdown",
   "metadata": {},
   "source": [
    "### TODO: Write your solution!"
   ]
  },
  {
   "cell_type": "code",
   "execution_count": null,
   "metadata": {},
   "outputs": [],
   "source": [
    "def closest_point(graph, current_point):\n",
    "    \"\"\"\n",
    "    Compute the closest point in the `graph`\n",
    "    to the `current_point`.\n",
    "    \"\"\"\n",
    "    closest_point = None\n",
    "    dist = 100000\n",
    "    for p in graph.nodes:\n",
    "        d = LA.norm(np.array(p) - np.array(current_point))\n",
    "        if d < dist:\n",
    "            closest_point = p\n",
    "            dist = d\n",
    "    return closest_point"
   ]
  },
  {
   "cell_type": "code",
   "execution_count": null,
   "metadata": {},
   "outputs": [],
   "source": [
    "start_ne_g = closest_point(G, start_ne)\n",
    "goal_ne_g = closest_point(G, goal_ne)\n",
    "\n",
    "print(start_ne_g)\n",
    "print(goal_ne_g)\n",
    "\n",
    "path, cost = a_star(G, heuristic, start_ne_g, goal_ne_g)\n",
    "print(len(path))"
   ]
  },
  {
   "cell_type": "code",
   "execution_count": null,
   "metadata": {},
   "outputs": [],
   "source": [
    "# equivalent to\n",
    "# plt.imshow(np.flip(grid, 0))\n",
    "plt.imshow(grid, origin='lower', cmap='Greys') \n",
    "\n",
    "for e in edges:\n",
    "    p1 = e[0]\n",
    "    p2 = e[1]\n",
    "    plt.plot([p1[1], p2[1]], [p1[0], p2[0]], 'b-')\n",
    "    \n",
    "plt.plot([start_ne[1], start_ne_g[1]], [start_ne[0], start_ne_g[0]], 'r-')\n",
    "for i in range(len(path)-1):\n",
    "    p1 = path[i]\n",
    "    p2 = path[i+1]\n",
    "    plt.plot([p1[1], p2[1]], [p1[0], p2[0]], 'r-')\n",
    "plt.plot([goal_ne[1], goal_ne_g[1]], [goal_ne[0], goal_ne_g[0]], 'r-')\n",
    "    \n",
    "plt.plot(start_ne[1], start_ne[0], 'gx')\n",
    "plt.plot(goal_ne[1], goal_ne[0], 'gx')\n",
    "\n",
    "plt.xlabel('EAST', fontsize=20)\n",
    "plt.ylabel('NORTH', fontsize=20)\n",
    "plt.show()"
   ]
  },
  {
   "cell_type": "markdown",
   "metadata": {},
   "source": [
    "[our solution](/notebooks/Graph-Search-Solution.ipynb)"
   ]
  },
  {
   "cell_type": "code",
   "execution_count": null,
   "metadata": {},
   "outputs": [],
   "source": []
  }
 ],
 "metadata": {
  "kernelspec": {
   "display_name": "Python 3",
   "language": "python",
   "name": "python3"
  },
  "language_info": {
   "codemirror_mode": {
    "name": "ipython",
    "version": 3
   },
   "file_extension": ".py",
   "mimetype": "text/x-python",
   "name": "python",
   "nbconvert_exporter": "python",
   "pygments_lexer": "ipython3",
   "version": "3.6.3"
  }
 },
 "nbformat": 4,
 "nbformat_minor": 2
}
