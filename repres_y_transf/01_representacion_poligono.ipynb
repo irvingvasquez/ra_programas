{
 "cells": [
  {
   "cell_type": "markdown",
   "metadata": {},
   "source": [
    "# Implementación de la forma\n",
    "\n",
    "En este ejemplo de programación representaremos la forma de nuestro robot mediante un polígono en un espacio de dos dimensiones. Es decir,\n",
    "\n",
    "\\begin{equation}\n",
    "\t\\mathcal{A} = \\{ V, E \\}\n",
    "\\end{equation} donde $V$ hace referencia a un conjunto de vértices y $E$ a un conjunto de aristas. Para facilitar la implementación usaremos la librería *shapely* que permite el manejo de entidades geométicas.\n",
    "\n",
    "@juan1rving"
   ]
  },
  {
   "cell_type": "code",
   "execution_count": 2,
   "metadata": {},
   "outputs": [],
   "source": [
    "# La libreria shapely nos permitirá la implementación del polígono.\n",
    "from shapely.geometry import Point, Polygon\n",
    "\n",
    "# Importamos la librería del curso.\n",
    "import roboticaaerea as ra"
   ]
  },
  {
   "cell_type": "code",
   "execution_count": 6,
   "metadata": {},
   "outputs": [],
   "source": [
    "# Definimos los vértices como tupas.\n",
    "p1 = (1.5, 0)\n",
    "p2 = (0, 2)\n",
    "p3 = (-1, 0)"
   ]
  },
  {
   "cell_type": "code",
   "execution_count": 7,
   "metadata": {},
   "outputs": [],
   "source": [
    "# Creamos el polígono a partir de la lista de vertices que creamos anteriormente.\n",
    "poli = Polygon([p1,p2,p3])"
   ]
  },
  {
   "cell_type": "code",
   "execution_count": 8,
   "metadata": {},
   "outputs": [
    {
     "data": {
      "image/png": "[encoded data removed]",
      "text/plain": [
       "<matplotlib.figure.Figure at 0x7fddcae3eeb8>"
      ]
     },
     "metadata": {
      "needs_background": "light"
     },
     "output_type": "display_data"
    }
   ],
   "source": [
    "# Una vez creado el polígono podemos dibujarlo utilizando la función adicional plot polygons.\n",
    "ra.plotPolygons([poli])"
   ]
  },
  {
   "cell_type": "code",
   "execution_count": 10,
   "metadata": {},
   "outputs": [],
   "source": [
    "# Ejercicio interactivo: \n",
    "# Genera un poligono más complicado para tu robot.\n",
    "# Un auto de carreras podría ser algo interesante de replicar."
   ]
  },
  {
   "cell_type": "code",
   "execution_count": 9,
   "metadata": {},
   "outputs": [],
   "source": [
    "mi_robot = None"
   ]
  },
  {
   "cell_type": "code",
   "execution_count": 10,
   "metadata": {},
   "outputs": [],
   "source": [
    "# Dibuja tu robot"
   ]
  },
  {
   "cell_type": "code",
   "execution_count": null,
   "metadata": {},
   "outputs": [],
   "source": []
  }
 ],
 "metadata": {
  "kernelspec": {
   "display_name": "Python 3",
   "language": "python",
   "name": "python3"
  },
  "language_info": {
   "codemirror_mode": {
    "name": "ipython",
    "version": 3
   },
   "file_extension": ".py",
   "mimetype": "text/x-python",
   "name": "python",
   "nbconvert_exporter": "python",
   "pygments_lexer": "ipython3",
   "version": "3.6.3"
  }
 },
 "nbformat": 4,
 "nbformat_minor": 2
}
