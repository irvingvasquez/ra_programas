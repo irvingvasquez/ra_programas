{
 "cells": [
  {
   "cell_type": "markdown",
   "metadata": {},
   "source": [
    "# Ejercicio de rotación\n",
    "\n",
    "En este ejercicio rotaremos los puntos del polígono usando una matriz de rotación, la cual se define como:\n",
    "\n",
    "$$\n",
    "R_z(\\theta) = \\begin{bmatrix} \n",
    "cos \\theta & - sin \\theta  \\\\\n",
    "sin \\theta & cos \\theta  \n",
    "\\end{bmatrix}\n",
    "$$\n",
    "\n",
    "Para la practica es necesario realizar las operaciones con numpy. Asi que va a ser necesario convertir las matrices a arrays de numpy, por ejemplo:\n",
    "\n",
    "R = np.array([lista])"
   ]
  },
  {
   "cell_type": "code",
   "execution_count": null,
   "metadata": {},
   "outputs": [],
   "source": [
    "# La libreria shapely nos permitirá la implementación del polígono.\n",
    "from shapely.geometry import Point, Polygon\n",
    "# Libreria propia\n",
    "import roboticaaerea as ra\n",
    "\n",
    "import numpy as np"
   ]
  },
  {
   "cell_type": "code",
   "execution_count": null,
   "metadata": {},
   "outputs": [],
   "source": [
    "# Vértices del robot\n",
    "p1 = (1, 0)\n",
    "p2 = (0, 2)\n",
    "p3 = (-1, 0)"
   ]
  },
  {
   "cell_type": "code",
   "execution_count": null,
   "metadata": {},
   "outputs": [],
   "source": [
    "# Mostremos el poligono que se genera con esos puntos\n",
    "poli = Polygon([p1,p2,p3])\n",
    "ra.plotPolygons([poli])"
   ]
  },
  {
   "cell_type": "code",
   "execution_count": null,
   "metadata": {},
   "outputs": [],
   "source": [
    "# Ángulo de rotación theta\n",
    "# Se propone 90 grados pero puedes probar con otros valores\n",
    "theta = np.radians(90)\n",
    "\n",
    "# Tarea: implementa la matriz de rotación usando arrays de numpy\n",
    "R = None\n",
    "print(R)"
   ]
  },
  {
   "cell_type": "markdown",
   "metadata": {},
   "source": [
    "Para rotar el polígono debemos acceder a cada uno de sus puntos y luego multiplicarlos por la matriz $R$ que acabas de crear"
   ]
  },
  {
   "cell_type": "code",
   "execution_count": null,
   "metadata": {},
   "outputs": [],
   "source": [
    "# Obtener puntos\n",
    "xs, ys = poli.exterior.coords.xy\n",
    "lista_puntos = [[x,y] for x, y in zip(xs, ys)]\n",
    "puntos_numpy = np.array(lista_puntos[:-1])\n",
    "\n",
    "print(puntos_numpy)"
   ]
  },
  {
   "cell_type": "code",
   "execution_count": null,
   "metadata": {},
   "outputs": [],
   "source": [
    "# Apliquemos la rotación\n",
    "# Tarea: multiplica puntos_numpy por R\n",
    "rotados = None"
   ]
  },
  {
   "cell_type": "code",
   "execution_count": null,
   "metadata": {},
   "outputs": [],
   "source": [
    "# Se genera un nuevo poligono dados los puntos transformados\n",
    "new_body = Polygon(rotados)"
   ]
  },
  {
   "cell_type": "code",
   "execution_count": null,
   "metadata": {},
   "outputs": [],
   "source": [
    "# Dibujar\n",
    "ra.plotPolygons([poli,new_body])"
   ]
  },
  {
   "cell_type": "markdown",
   "metadata": {},
   "source": [
    "En caso de que hayas utilizado $\\theta = 90$ debes ver el siguiente resultado, con el polígono original y el rotado:\n",
    "\n",
    "![](rotacion.png) "
   ]
  },
  {
   "cell_type": "code",
   "execution_count": null,
   "metadata": {},
   "outputs": [],
   "source": []
  }
 ],
 "metadata": {
  "kernelspec": {
   "display_name": "Python 3",
   "language": "python",
   "name": "python3"
  },
  "language_info": {
   "codemirror_mode": {
    "name": "ipython",
    "version": 3
   },
   "file_extension": ".py",
   "mimetype": "text/x-python",
   "name": "python",
   "nbconvert_exporter": "python",
   "pygments_lexer": "ipython3",
   "version": "3.6.3"
  }
 },
 "nbformat": 4,
 "nbformat_minor": 2
}
