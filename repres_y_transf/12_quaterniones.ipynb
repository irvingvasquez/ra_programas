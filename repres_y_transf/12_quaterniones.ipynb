{
 "cells": [
  {
   "cell_type": "markdown",
   "metadata": {},
   "source": [
    "## Quaternions\n"
   ]
  },
  {
   "cell_type": "markdown",
   "metadata": {},
   "source": [
    "In the following exercise you'll implement functions to convert between Euler angles and quaternion representations. It's useful to be able to easily navigate back and forth between these representations because of their relative strengths. Quaternions are better for calculations, while Euler angles are far more intuitive.\n",
    "\n",
    "Some messages coming from your drone in simulation (or in the real world) will represent orientation data as a quaternion, while others use Euler angles. So it's a good idea to be able to seamlessly handle both. \n",
    "\n",
    "The [`udacidrone` API imlementation](https://github.com/udacity/udacidrone/blob/master/udacidrone/connection/message_types.py#L189-L284) that you're using for the projects in this program already has these conversions implemented under the hood so that's a great place to start if you aren't sure how to complete this exercise!"
   ]
  },
  {
   "cell_type": "code",
   "execution_count": null,
   "metadata": {},
   "outputs": [],
   "source": [
    "import numpy as np\n",
    "import math as mt\n",
    "\n",
    "def quaternion_multiply(quaternion1, quaternion0):\n",
    "    w0, x0, y0, z0 = quaternion0\n",
    "    w1, x1, y1, z1 = quaternion1\n",
    "    return np.array([-x1 * x0 - y1 * y0 - z1 * z0 + w1 * w0,\n",
    "                     x1 * w0 + y1 * z0 - z1 * y0 + w1 * x0,\n",
    "                     -x1 * z0 + y1 * w0 + z1 * x0 + w1 * y0,\n",
    "                     x1 * y0 - y1 * x0 + z1 * w0 + w1 * z0], dtype=np.float64)\n",
    "\n",
    "def rot_yaw_to_quat(psi):\n",
    "    return np.array([mt.cos(psi/2),0,0,mt.sin(psi/2)], dtype=np.float64)\n",
    "\n",
    "def rot_pitch_to_quat(theta):\n",
    "    return np.array([mt.cos(theta/2),0,mt.sin(theta/2),0], dtype=np.float64)\n",
    "\n",
    "def rot_roll_to_quat(phi):\n",
    "    return np.array([mt.cos(phi/2),mt.sin(phi/2),0,0], dtype=np.float64)\n",
    "\n",
    "def euler_to_quaternion(angles):\n",
    "    roll = angles[0]\n",
    "    pitch = angles[1]\n",
    "    yaw = angles[2]\n",
    "    \n",
    "    # TODO: complete the conversion\n",
    "    # and return a numpy array of\n",
    "    # 4 elements representing a quaternion [a, b, c, d]\n",
    "    \n",
    "    # assuming rotation by x then by y and finally by z\n",
    "    q_yaw = rot_yaw_to_quat(yaw)\n",
    "    q_pitch = rot_pitch_to_quat(pitch)\n",
    "    q_roll = rot_roll_to_quat(roll)\n",
    "    return quaternion_multiply(q_yaw, quaternion_multiply(q_pitch, q_roll))\n",
    "\n",
    "def quaternion_to_euler(quaternion):\n",
    "    a = quaternion[0]\n",
    "    b = quaternion[1]\n",
    "    c = quaternion[2]\n",
    "    d = quaternion[3]\n",
    "    \n",
    "    # TODO: complete the conversion\n",
    "    # and return a numpy array of\n",
    "    # 3 element representing the euler angles [roll, pitch, yaw]\n",
    "    return np.array([ mt.atan2(2*(a*b+c*d),1-2*(b**2 + c**2)),\n",
    "                     mt.asin(2*(a*c-d*b)),\n",
    "                     mt.atan2(2*(a*d+b*c),1-2*(c**2+d**2))], dtype=np.float64)"
   ]
  },
  {
   "cell_type": "markdown",
   "metadata": {},
   "source": [
    "Test the conversion."
   ]
  },
  {
   "cell_type": "code",
   "execution_count": null,
   "metadata": {},
   "outputs": [],
   "source": [
    "euler = np.array([np.deg2rad(90), np.deg2rad(30), np.deg2rad(0)])\n",
    "\n",
    "q = euler_to_quaternion(euler) # should be [ 0.683  0.683  0.183 -0.183]\n",
    "print(q)\n",
    "\n",
    "assert np.array_equal(euler, quaternion_to_euler(q))"
   ]
  },
  {
   "cell_type": "markdown",
   "metadata": {},
   "source": [
    "Here's our [solution](/notebooks/Quaternions-Solution.ipynb)!"
   ]
  },
  {
   "cell_type": "code",
   "execution_count": null,
   "metadata": {},
   "outputs": [],
   "source": []
  }
 ],
 "metadata": {
  "kernelspec": {
   "display_name": "Python 3",
   "language": "python",
   "name": "python3"
  },
  "language_info": {
   "codemirror_mode": {
    "name": "ipython",
    "version": 3
   },
   "file_extension": ".py",
   "mimetype": "text/x-python",
   "name": "python",
   "nbconvert_exporter": "python",
   "pygments_lexer": "ipython3",
   "version": "3.6.3"
  }
 },
 "nbformat": 4,
 "nbformat_minor": 2
}
