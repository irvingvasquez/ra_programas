{
 "cells": [
  {
   "cell_type": "markdown",
   "metadata": {},
   "source": [
    "# Programación de un robot Móvil\n",
    "\n",
    "Esta práctica consiste en poder graficar el movimiento de un robot dado un control, haciendo uso de la cinemática directa "
   ]
  },
  {
   "cell_type": "markdown",
   "metadata": {},
   "source": [
    "Se realizarán las importaciones de las librerías necesarias para que se pueda gráficar "
   ]
  },
  {
   "cell_type": "code",
   "execution_count": 4,
   "metadata": {},
   "outputs": [],
   "source": [
    "# importar el módulo pyplot\n",
    "import matplotlib.pyplot as plt\n",
    "import math"
   ]
  },
  {
   "cell_type": "markdown",
   "metadata": {},
   "source": []
  },
  {
   "cell_type": "markdown",
   "metadata": {},
   "source": [
    "## Uso de numpy\n",
    "\n",
    "definir una matriz en numpy\n",
    "\n",
    "R = np.array([lista])"
   ]
  },
  {
   "cell_type": "markdown",
   "metadata": {},
   "source": []
  },
  {
   "cell_type": "code",
   "execution_count": 5,
   "metadata": {},
   "outputs": [],
   "source": [
    "## Definir la clase Robot\n",
    "\n",
    "## Definir la clase Robot\n",
    "\n",
    "class Robot():\n",
    "    def __init__(self, max_dof, q_actual, polygon):\n",
    "        #protected attributes (underscore)\n",
    "        self._max_dof = 3        # grados de libertad del robot\n",
    "        self._q = q_actual  # condiciones iniciales\n",
    "        self._body = polygon\n",
    "        \n",
    "        # paso de integración\n",
    "        self._deltaT\n",
    "        \n",
    "        # generate an input for the robot\n",
    "    def getInput():\n",
    "        pass\n",
    "    \n",
    "    def eulerIntegrate(x, u):\n",
    "        # implementa la integraciòn por Euler\n",
    "        # next_x = x + f(x, u) * dt\n",
    "        pass\n",
    "        \n",
    "    def generatePath(steps=1):\n",
    "        # i = 0\n",
    "        Path = []\n",
    "        # para cada i en steps\n",
    "        #     u = getInput(i)\n",
    "        #     x = integrar con Euler x,u,deltaT\n",
    "        #     almacenar la figura\n",
    "        return Path\n",
    "    \n",
    "    def stateTransitionEquation(x, u):\n",
    "        # x_dot = f(x, u)\n",
    "        pass\n",
    "    \n",
    "        \n",
    "        # Retorna la configuración actual\n",
    "    def getConfig():\n",
    "        return q\n",
    "            \n",
    "    def _getRotation(q):\n",
    "        # Retorna la matriz de rotaciòn de acuerdo a lo visto arriba en formato array\n",
    "        pass\n",
    "    \n",
    "    def _getTranslation(q):\n",
    "        # Retorna la matriz de traslacion\n",
    "        pass\n",
    "        \n",
    "    def getHomogeneousTransform(q):\n",
    "        # Retorna la matriz completa H formada por la suma de R + T\n",
    "        pass\n",
    "    \n",
    "    def _getTranslatedBody(q):\n",
    "        # retorna un poligono transformado por q\n",
    "        # para cada punto multiplicarlo por H\n",
    "        pass\n",
    "    \n",
    "    def getCurrentBody():\n",
    "        return getTranslatedBody(self._q)"
   ]
  },
  {
   "cell_type": "code",
   "execution_count": 6,
   "metadata": {},
   "outputs": [],
   "source": [
    "# TODO graficar path"
   ]
  },
  {
   "cell_type": "code",
   "execution_count": null,
   "metadata": {},
   "outputs": [],
   "source": []
  }
 ],
 "metadata": {
  "kernelspec": {
   "display_name": "Python 3",
   "language": "python",
   "name": "python3"
  },
  "language_info": {
   "codemirror_mode": {
    "name": "ipython",
    "version": 3
   },
   "file_extension": ".py",
   "mimetype": "text/x-python",
   "name": "python",
   "nbconvert_exporter": "python",
   "pygments_lexer": "ipython3",
   "version": "3.6.3"
  }
 },
 "nbformat": 4,
 "nbformat_minor": 2
}
