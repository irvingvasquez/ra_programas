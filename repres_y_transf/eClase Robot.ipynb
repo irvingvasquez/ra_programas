{
 "cells": [
  {
   "cell_type": "markdown",
   "metadata": {},
   "source": [
    "# Programación de un robot Móvil\n",
    "\n",
    "Esta práctica consiste en poder graficar el movimiento de un robot dado un control, haciendo uso de la cinemática directa "
   ]
  },
  {
   "cell_type": "markdown",
   "metadata": {},
   "source": [
    "Se realizarán las importaciones de las librerías necesarias para que se pueda gráficar "
   ]
  },
  {
   "cell_type": "code",
   "execution_count": 15,
   "metadata": {},
   "outputs": [],
   "source": [
    "# importar el módulo pyplot\n",
    "import matplotlib.pyplot as plt\n",
    "import matplotlib\n",
    "import numpy as np\n",
    "import math\n",
    "from math import sin, cos\n",
    "from shapely.geometry import Point, Polygon"
   ]
  },
  {
   "cell_type": "markdown",
   "metadata": {},
   "source": [
    "Se crea una clase denominada Robot que será encargada de poder calcular la posición del cuerpo del robot una vez que se establecen las condiciones iniciales y un control dado\n",
    "\n",
    "Utilizaremos matrices de transformación homogenea\n",
    "\n",
    "La configuración del robot es\n",
    "$$\n",
    "   [x, y, \\theta]^T\n",
    "$$\n",
    "\n",
    "Entonces la función de rotación te debe devolver \n",
    "\n",
    "$$\n",
    "R_z(\\theta) = \\begin{bmatrix} \n",
    "cos \\theta & - sin \\theta & 0 \\\\\n",
    "sin \\theta & cos \\theta  & 0 \\\\\n",
    "0 & 0 & 1\n",
    "\\end{bmatrix}\n",
    "$$\n",
    "\n",
    "y la función de traslación simplemente te devuelve\n",
    "\n",
    "$$\n",
    "T(x,y) = \\begin{bmatrix} \n",
    "0 & 0 & x \\\\\n",
    "0 & 0  & y \\\\\n",
    "0 & 0 & 0\n",
    "\\end{bmatrix}\n",
    "$$\n",
    "\n",
    "Para generar una transformación usaremos\n",
    "\n",
    "$$\n",
    "H = R_z(\\theta) + T(x,y)\n",
    "$$"
   ]
  },
  {
   "cell_type": "markdown",
   "metadata": {},
   "source": [
    "## Uso de numpy\n",
    "\n",
    "definir una matriz en numpy\n",
    "\n",
    "R = np.array([lista])"
   ]
  },
  {
   "cell_type": "code",
   "execution_count": null,
   "metadata": {},
   "outputs": [],
   "source": []
  },
  {
   "cell_type": "code",
   "execution_count": 73,
   "metadata": {},
   "outputs": [],
   "source": [
    "## Definir la clase Robot\n",
    "\n",
    "class Robot():\n",
    "    def __init__(self, max_dof, q_actual, polygon):\n",
    "        self.max_dof = 3        # grados de libertad del robot\n",
    "        self.q = q_actual  # condiciones iniciales\n",
    "        self.body = polygon\n",
    "        \n",
    "    def getConfig():\n",
    "        return q\n",
    "            \n",
    "    def getRotation(q):\n",
    "        # Retorna la matriz de rotaciòn de acuerdo a lo visto arriba en formato array\n",
    "        tetha = q[2]\n",
    "        R = np.array([[cos(tetha), -sin(tetha), 0],[sin(tetha), cos(tetha),0 ],[0,0,1]])\n",
    "        return R\n",
    "    \n",
    "    def getTranslation(q):\n",
    "        # Retorna la matriz de traslacion\n",
    "        x=q[0]\n",
    "        y=q[1]\n",
    "        T = np.array([[0, 0, x],[0, 0, y],[0,0,0]])\n",
    "        return T\n",
    "        \n",
    "    def getHomogeneousTransform(q):\n",
    "        # Retorna la matriz completa formada por la suma\n",
    "        H = Robot.getRotation(q) + Robot.getTranslation(q)\n",
    "        print(\"--------------\")\n",
    "        print(\"Esta es la matriz homogenea\")\n",
    "        print(H)\n",
    "        print(\"--------------\")\n",
    "        return H\n",
    "    \n",
    "    def getTranslatedBody(puntos,q):\n",
    "        # retorna un poligono transformado por q\n",
    "        # para cada punto multiplicarlo por H\n",
    "        lista=[]\n",
    "        H = Robot.getHomogeneousTransform(q)\n",
    "        for elemento in puntos:\n",
    "            punto_rotado = np.dot(H,elemento)\n",
    "            print(punto_rotado)\n",
    "            lista.append((punto_rotado[0],punto_rotado[1]))\n",
    "        return lista"
   ]
  },
  {
   "cell_type": "code",
   "execution_count": 123,
   "metadata": {},
   "outputs": [
    {
     "name": "stdout",
     "output_type": "stream",
     "text": [
      "-------\n",
      "Estos son los puntos de los vertices agregando unacolumna de ceros\n",
      "[[ 1  0  1]\n",
      " [ 0  2  1]\n",
      " [-1  0  1]\n",
      " [ 1  0  1]]\n",
      "-------\n",
      "--------------\n",
      "Esta es la matriz homogenea\n",
      "[[ 0.52532199  0.85090352  5.        ]\n",
      " [-0.85090352  0.52532199  5.        ]\n",
      " [ 0.          0.          1.        ]]\n",
      "--------------\n",
      "[5.52532199 4.14909648 1.        ]\n",
      "[6.70180705 6.05064398 1.        ]\n",
      "[4.47467801 5.85090352 1.        ]\n",
      "[5.52532199 4.14909648 1.        ]\n"
     ]
    }
   ],
   "source": [
    "# Generamos los vertices\n",
    "p1 = (1, 0)\n",
    "p2 = (0, 2)\n",
    "p3 = (-1, 0)\n",
    "\n",
    "# Crear un poligono  partir de una lista de puntos(tuplas de dos elementos)\n",
    "poli = Polygon([p1,p2,p3])\n",
    "x, y = poli.exterior.coords.xy\n",
    "points = np.array([x, y], np.int32).T\n",
    "\n",
    "#print(type(poli))\n",
    "#print('-------')\n",
    "#print(poli)\n",
    "#print('-------')\n",
    "#print(points)\n",
    "print('-------')\n",
    "print('Estos son los puntos de los vertices agregando unacolumna de ceros')\n",
    "point_add=np.insert(points, points.shape[1], np.array((1, 1, 1, 1)), 1) \n",
    "print(point_add)\n",
    "print('-------')\n",
    "#print(point_add[0])\n",
    "\n",
    "q = [5,5,-45]\n",
    "s= Robot.getTranslatedBody(point_add, q)\n",
    "\n",
    "\n",
    "def plotPolygon(polygon):\n",
    "    fig, ax = plt.subplots(1)\n",
    "    for element in polygon:\n",
    "        x, y = element.exterior.coords.xy\n",
    "        points = np.array([x, y], np.int32).T\n",
    "        polygon_shape = matplotlib.patches.Polygon(points, linewidth=1, edgecolor='r', facecolor='none')\n",
    "        ax.add_patch(polygon_shape)\n",
    "        plt.axis(\"equal\")\n",
    "    plt.show()\n",
    "    \n",
    "#plotPolygon(poli)"
   ]
  },
  {
   "cell_type": "code",
   "execution_count": 124,
   "metadata": {},
   "outputs": [
    {
     "name": "stdout",
     "output_type": "stream",
     "text": [
      "[(5.52532198881773, 4.149096475465882), (6.701807049068237, 6.05064397763546), (4.47467801118227, 5.850903524534118), (5.52532198881773, 4.149096475465882)]\n"
     ]
    }
   ],
   "source": [
    "print(s)"
   ]
  },
  {
   "cell_type": "code",
   "execution_count": 125,
   "metadata": {},
   "outputs": [],
   "source": [
    "\n",
    "#poli2 = Polygon([s[0],s[1],s[2]])\n",
    "poli2 = Polygon(s[:-1])\n"
   ]
  },
  {
   "cell_type": "code",
   "execution_count": 126,
   "metadata": {},
   "outputs": [
    {
     "name": "stdout",
     "output_type": "stream",
     "text": [
      "<class 'shapely.geometry.polygon.Polygon'>\n"
     ]
    },
    {
     "data": {
      "image/png": "[encoded data removed]",
      "text/plain": [
       "<matplotlib.figure.Figure at 0x2c3e04adf60>"
      ]
     },
     "metadata": {
      "needs_background": "light"
     },
     "output_type": "display_data"
    }
   ],
   "source": [
    "poligonos = [poli, poli2]\n",
    "print(type(poligonos[0]))\n",
    "plotPolygon(poligonos)"
   ]
  },
  {
   "cell_type": "code",
   "execution_count": null,
   "metadata": {},
   "outputs": [],
   "source": []
  }
 ],
 "metadata": {
  "kernelspec": {
   "display_name": "Python 3",
   "language": "python",
   "name": "python3"
  },
  "language_info": {
   "codemirror_mode": {
    "name": "ipython",
    "version": 3
   },
   "file_extension": ".py",
   "mimetype": "text/x-python",
   "name": "python",
   "nbconvert_exporter": "python",
   "pygments_lexer": "ipython3",
   "version": "3.6.3"
  }
 },
 "nbformat": 4,
 "nbformat_minor": 2
}
