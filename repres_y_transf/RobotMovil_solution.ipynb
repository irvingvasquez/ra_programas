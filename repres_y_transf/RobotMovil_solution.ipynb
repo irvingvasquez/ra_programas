{
 "cells": [
  {
   "cell_type": "markdown",
   "metadata": {},
   "source": [
    "# Configuracón de un robot móvil\n",
    "\n",
    "Esta práctica consiste en poder graficar el cuerpo del robot dada su configuración. \n",
    "\n",
    "Utilizaremos matrices de transformación homogenea\n",
    "\n",
    "La configuración del robot es\n",
    "$$\n",
    "   (x, y, \\theta)\n",
    "$$\n",
    "\n",
    "Entonces la función de rotación te debe devolver \n",
    "\n",
    "$$\n",
    "R_z(\\theta) = \\begin{bmatrix} \n",
    "cos \\theta & - sin \\theta & 0 \\\\\n",
    "sin \\theta & cos \\theta  & 0 \\\\\n",
    "0 & 0 & 1\n",
    "\\end{bmatrix}\n",
    "$$\n",
    "\n",
    "y la función de traslación simplemente te devuelve\n",
    "\n",
    "$$\n",
    "T(x,y) = \\begin{bmatrix} \n",
    "0 & 0 & x \\\\\n",
    "0 & 0  & y \\\\\n",
    "0 & 0 & 0\n",
    "\\end{bmatrix}\n",
    "$$\n",
    "\n",
    "Para generar una transformación usaremos\n",
    "\n",
    "$$\n",
    "H(x,y,\\theta) = R_z(\\theta) + T(x,y)\n",
    "$$"
   ]
  },
  {
   "cell_type": "code",
   "execution_count": 22,
   "metadata": {},
   "outputs": [],
   "source": [
    "# importamos paquetes necesarios\n",
    "import matplotlib.pyplot as plt\n",
    "import math\n",
    "from math import sin, cos\n",
    "import numpy as np\n",
    "from shapely.geometry import Point, Polygon\n",
    "\n",
    "import utils"
   ]
  },
  {
   "cell_type": "markdown",
   "metadata": {},
   "source": [
    "## Uso de numpy\n",
    "\n",
    "Para la practica es necesario realizar las operaciones con numpy. Asi que va a ser necesario convertir las matrices a arrays de numpy:\n",
    "\n",
    "R = np.array([lista])"
   ]
  },
  {
   "cell_type": "markdown",
   "metadata": {},
   "source": [
    "## Clase Robot\n",
    "\n",
    "Una clase es la abstración de una entidad que contiene atributos y métodos. Para esta práctica crearemos una clase denominada Robot que contendrà como atributos el nùmero de grados de libertad, la configuraciòn actual del robot y el cuerpo con respecto del body frame.\n",
    "\n",
    "Además la clase Robot contendrá un método llamado $getCurrentBody()$ que devolverà un poligono en el marco de referencia inercial dada la configuraciòn que esè almacenada en el robot. \n",
    "\n",
    "Rellena las funciones faltantes.\n"
   ]
  },
  {
   "cell_type": "code",
   "execution_count": 24,
   "metadata": {},
   "outputs": [],
   "source": [
    "## Definir la clase Robot\n",
    "\n",
    "class Robot():\n",
    "    def __init__(self, max_dof, q_actual, polygon):\n",
    "        #protected attributes (underscore)\n",
    "        self._max_dof = 3        # grados de libertad del robot\n",
    "        self._q_actual = q_actual  # condiciones iniciales\n",
    "        self._body = polygon\n",
    "        \n",
    "        # Retorna la configuración actual\n",
    "    def getConfig():\n",
    "        return q\n",
    "            \n",
    "    def _getRotation(self, q):\n",
    "        # Retorna la matriz de rotaciòn de acuerdo a lo visto arriba en formato array\n",
    "        theta = q[2]\n",
    "        R = np.array([[cos(theta), -sin(theta), 0],[sin(theta), cos(theta),0 ],[0,0,1]])\n",
    "        return R\n",
    "    \n",
    "    def _getTranslation(self, q):\n",
    "        # Retorna la matriz de traslacion\n",
    "        x=q[0]\n",
    "        y=q[1]\n",
    "        T = np.array([[0, 0, x],[0, 0, y],[0,0,0]])\n",
    "        return T\n",
    "        \n",
    "    def _getHomogeneousTransform(self, q):\n",
    "        # Retorna la matriz completa H formada por la suma de R + T\n",
    "        # Retorna la matriz completa formada por la suma\n",
    "        H = self._getRotation(q) + self._getTranslation(q)\n",
    "        return H\n",
    "    \n",
    "    \n",
    "    \n",
    "    def getCurrentBody(self):\n",
    "        # Retorna el cuerpo del robot de acuerdo a su configuraciòn actual\n",
    "        \n",
    "        # configuraciòn actual\n",
    "        q = self._q_actual\n",
    "        \n",
    "        #obtener la matriz de transformación homogenea\n",
    "        H = self._getHomogeneousTransform(q)\n",
    "        #print(H)\n",
    "        \n",
    "        #nuevos puntos\n",
    "        new_points=[]\n",
    "        \n",
    "        # para cada punto multiplicarlo por H\n",
    "        xs, ys = self._body.exterior.coords.xy\n",
    "        # dado que los vectores deben estar en formato homogeneo les agrearemos un uno\n",
    "        puntos = [[x,y,1] for x, y in zip(xs, ys)]\n",
    "        \n",
    "        puntos = np.array(puntos[:-1])\n",
    "        #print(puntos)\n",
    "        \n",
    "        for elemento in puntos:\n",
    "            # p' = H . p\n",
    "            elemento = np.reshape(elemento, (3,1))\n",
    "            #print(elemento)\n",
    "            punto_rotado = np.dot(H, elemento)\n",
    "            #print(punto_rotado)\n",
    "            \n",
    "            # solo guardamos las dos primeras coordenadas y desechamos el 1\n",
    "            new_points.append((punto_rotado[0][0], punto_rotado[1][0]))\n",
    "        \n",
    "        #print(new_points)\n",
    "        # Se genera un nuevo poligono dados los puntos transformados\n",
    "        new_body = Polygon(new_points)\n",
    "        return new_body"
   ]
  },
  {
   "cell_type": "markdown",
   "metadata": {},
   "source": [
    "## Experimento\n",
    "\n",
    "Ahora probaremos la clase que acabamos de crear"
   ]
  },
  {
   "cell_type": "code",
   "execution_count": 25,
   "metadata": {},
   "outputs": [
    {
     "name": "stdout",
     "output_type": "stream",
     "text": [
      "Este es el cuerpo del robot con respecto al body frame. POLYGON ((1 0, 0 2, -1 0, 1 0))\n"
     ]
    },
    {
     "data": {
      "image/png": "[encoded data removed]",
      "text/plain": [
       "<matplotlib.figure.Figure at 0x7fa56c45be80>"
      ]
     },
     "metadata": {
      "needs_background": "light"
     },
     "output_type": "display_data"
    }
   ],
   "source": [
    "#TODO: Crea un polígono que represente al robot\n",
    "\n",
    "#cuerpo = None\n",
    "\n",
    "p1 = (1, 0)\n",
    "p2 = (0, 2)\n",
    "p3 = (-1, 0)\n",
    "\n",
    "# Crear un poligono  partir de una lista de puntos(tuplas de dos elementos)\n",
    "cuerpo = Polygon([p1,p2,p3]) \n",
    "\n",
    "print(\"Este es el cuerpo del robot con respecto al body frame.\", cuerpo)\n",
    "\n",
    "# la funciòn plotPolygons recibe una lista de poligonos\n",
    "utils.plotPolygons([cuerpo])"
   ]
  },
  {
   "cell_type": "code",
   "execution_count": 26,
   "metadata": {},
   "outputs": [],
   "source": [
    "# Crea un objeto de la clase Robot donde establezcas una configuración\n",
    "\n",
    "# establece el número de grados de libertad\n",
    "#config_dim = None\n",
    "config_dim = 3\n",
    "# configuracion\n",
    "#config = None\n",
    "config = [5,5, math.radians(90)]\n",
    "# crea el objeto\n",
    "speedy = Robot(config_dim, config, cuerpo)"
   ]
  },
  {
   "cell_type": "code",
   "execution_count": 27,
   "metadata": {},
   "outputs": [
    {
     "name": "stdout",
     "output_type": "stream",
     "text": [
      "El cuerpo del robot dada su configuación es: POLYGON ((5 6, 3 5, 5 4, 5 6))\n"
     ]
    }
   ],
   "source": [
    "# obtener el poligono\n",
    "poli_en_posicion = speedy.getCurrentBody()\n",
    "\n",
    "print(\"El cuerpo del robot dada su configuación es:\", poli_en_posicion)"
   ]
  },
  {
   "cell_type": "code",
   "execution_count": 28,
   "metadata": {},
   "outputs": [
    {
     "data": {
      "image/png": "[encoded data removed]",
      "text/plain": [
       "<matplotlib.figure.Figure at 0x7fa56c423a58>"
      ]
     },
     "metadata": {
      "needs_background": "light"
     },
     "output_type": "display_data"
    }
   ],
   "source": [
    "# Desplegar el poligono rotado\n",
    "\n",
    "# la funciòn plotPolygons recibe una lista de poligonos\n",
    "utils.plotPolygons([cuerpo, poli_en_posicion])"
   ]
  },
  {
   "cell_type": "code",
   "execution_count": null,
   "metadata": {},
   "outputs": [],
   "source": []
  }
 ],
 "metadata": {
  "kernelspec": {
   "display_name": "Python 3",
   "language": "python",
   "name": "python3"
  },
  "language_info": {
   "codemirror_mode": {
    "name": "ipython",
    "version": 3
   },
   "file_extension": ".py",
   "mimetype": "text/x-python",
   "name": "python",
   "nbconvert_exporter": "python",
   "pygments_lexer": "ipython3",
   "version": "3.6.3"
  }
 },
 "nbformat": 4,
 "nbformat_minor": 2
}
