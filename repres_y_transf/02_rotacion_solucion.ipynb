{
 "cells": [
  {
   "cell_type": "markdown",
   "metadata": {},
   "source": [
    "# Ejercicio de rotación\n",
    "\n",
    "Una rotación se define como:\n",
    "\n",
    "$$\n",
    "R_z(\\theta) = \\begin{bmatrix} \n",
    "cos \\theta & - sin \\theta  \\\\\n",
    "sin \\theta & cos \\theta  \n",
    "\\end{bmatrix}\n",
    "$$"
   ]
  },
  {
   "cell_type": "code",
   "execution_count": 41,
   "metadata": {},
   "outputs": [],
   "source": [
    "# La libreria shapely nos permitirá la implementación del polígono.\n",
    "from shapely.geometry import Point, Polygon\n",
    "# Libreria propia\n",
    "import roboticaaerea as ra\n",
    "\n",
    "import numpy as np"
   ]
  },
  {
   "cell_type": "code",
   "execution_count": 42,
   "metadata": {},
   "outputs": [],
   "source": [
    "# Vértices del robot\n",
    "p1 = (1, 0)\n",
    "p2 = (0, 2)\n",
    "p3 = (-1, 0)"
   ]
  },
  {
   "cell_type": "code",
   "execution_count": 43,
   "metadata": {},
   "outputs": [
    {
     "data": {
      "image/png": "[encoded data removed]",
      "text/plain": [
       "<matplotlib.figure.Figure at 0x7fd5f7d201d0>"
      ]
     },
     "metadata": {
      "needs_background": "light"
     },
     "output_type": "display_data"
    }
   ],
   "source": [
    "# Mostremos el poligono que se genera con esos puntos\n",
    "poli = Polygon([p1,p2,p3])\n",
    "ra.plotPolygons([poli])"
   ]
  },
  {
   "cell_type": "code",
   "execution_count": 44,
   "metadata": {},
   "outputs": [
    {
     "name": "stdout",
     "output_type": "stream",
     "text": [
      "[[ 6.123234e-17 -1.000000e+00]\n",
      " [ 1.000000e+00  6.123234e-17]]\n"
     ]
    }
   ],
   "source": [
    "# Ángulo de rotación theta\n",
    "# Se propone 90 grados pero puedes probar con otros valores\n",
    "theta = np.radians(90)\n",
    "\n",
    "# Tarea: implementa la matriz de rotación usando arrays de numpy\n",
    "R = np.array([[np.cos(theta), -np.sin(theta)],[np.sin(theta), np.cos(theta)]])\n",
    "print(R)"
   ]
  },
  {
   "cell_type": "markdown",
   "metadata": {},
   "source": [
    "Para rotar el polígono debemos acceder a cada uno de sus puntos y luego multiplicarlos por la matriz $R$ que acabas de crear"
   ]
  },
  {
   "cell_type": "code",
   "execution_count": 45,
   "metadata": {},
   "outputs": [
    {
     "name": "stdout",
     "output_type": "stream",
     "text": [
      "[[ 1.  0.]\n",
      " [ 0.  2.]\n",
      " [-1.  0.]]\n"
     ]
    }
   ],
   "source": [
    "# Obtener puntos\n",
    "xs, ys = poli.exterior.coords.xy\n",
    "lista_puntos = [[x,y] for x, y in zip(xs, ys)]\n",
    "puntos_numpy = np.array(lista_puntos[:-1])\n",
    "\n",
    "print(puntos_numpy)"
   ]
  },
  {
   "cell_type": "code",
   "execution_count": 46,
   "metadata": {},
   "outputs": [],
   "source": [
    "# Apliquemos la rotación\n",
    "# Tarea: multiplica puntos_numpy por R\n",
    "rotados = np.dot(puntos_numpy, R)"
   ]
  },
  {
   "cell_type": "code",
   "execution_count": 47,
   "metadata": {},
   "outputs": [],
   "source": [
    "# Se genera un nuevo poligono dados los puntos transformados\n",
    "new_body = Polygon(rotados)"
   ]
  },
  {
   "cell_type": "code",
   "execution_count": 48,
   "metadata": {},
   "outputs": [
    {
     "data": {
      "image/png": "[encoded data removed]",
      "text/plain": [
       "<matplotlib.figure.Figure at 0x7fd5f7c884e0>"
      ]
     },
     "metadata": {
      "needs_background": "light"
     },
     "output_type": "display_data"
    }
   ],
   "source": [
    "# Dibujar\n",
    "ra.plotPolygons([poli,new_body])"
   ]
  },
  {
   "cell_type": "markdown",
   "metadata": {},
   "source": [
    "En caso de que hayas utilizado $\\theta = 90$ debes ver el siguiente resultado, con el polígono original y el rotado:\n",
    "\n",
    "![](rotacion.png) "
   ]
  },
  {
   "cell_type": "code",
   "execution_count": null,
   "metadata": {},
   "outputs": [],
   "source": []
  }
 ],
 "metadata": {
  "kernelspec": {
   "display_name": "Python 3",
   "language": "python",
   "name": "python3"
  },
  "language_info": {
   "codemirror_mode": {
    "name": "ipython",
    "version": 3
   },
   "file_extension": ".py",
   "mimetype": "text/x-python",
   "name": "python",
   "nbconvert_exporter": "python",
   "pygments_lexer": "ipython3",
   "version": "3.6.3"
  }
 },
 "nbformat": 4,
 "nbformat_minor": 2
}
