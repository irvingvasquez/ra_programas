{
 "cells": [
  {
   "cell_type": "markdown",
   "metadata": {},
   "source": [
    "# Implementación del muestreo aleatorio\n",
    "\n",
    "En este programa implementaremos los elementos necesarios para realizar planificaciones basadas en muestreo. Para ello requeriremos:\n",
    "\n",
    "1. Crear un conjunto de polígonos que representen los obstáculos en el ambiente.\n",
    "2. Muestrear puntos en tres dimensiones.\n",
    "3. Eliminar puntos que caigan en una región de obstáculos poligonal.\n"
   ]
  },
  {
   "cell_type": "code",
   "execution_count": null,
   "metadata": {},
   "outputs": [],
   "source": [
    "# Importamos paquetes necesarios\n",
    "import time\n",
    "import numpy as np\n",
    "import matplotlib.pyplot as plt\n",
    "from mpl_toolkits.mplot3d import Axes3D\n",
    "\n",
    "# utilizaremos la librería shapely para representar los polígonos del ambiente\n",
    "from shapely.geometry import Polygon, Point\n",
    "\n",
    "%matplotlib inline \n",
    "plt.rcParams['figure.figsize'] = 12, 12"
   ]
  },
  {
   "cell_type": "code",
   "execution_count": null,
   "metadata": {},
   "outputs": [],
   "source": [
    "# Los obstáculos están especificados en el siguiente archivo.\n",
    "filename = 'data_reduced.csv'\n",
    "data = np.loadtxt(filename, delimiter=',', dtype=np.float64, skiprows=2)"
   ]
  },
  {
   "cell_type": "markdown",
   "metadata": {},
   "source": [
    "## Crear obstáculos\n",
    "\n",
    "Para simplificar el proceso, representaremos cada obstáculos mediante una representación de dos partes. La primera será la base de la figura; en este ejemplo supondremos figuras rectangulares. La segunda será la altura. De esta forma, un punto $(x, y, z)$ está en colisión si $(x, y)$ están dentro de la base polygonal y la altura $z$ es menor que la altura del obstáculo."
   ]
  },
  {
   "cell_type": "code",
   "execution_count": null,
   "metadata": {},
   "outputs": [],
   "source": [
    "def extract_polygons(data):\n",
    "    # Construye un conjunto de polígonos a partir de los datos de obstáculo\n",
    "    polygons = []\n",
    "    for i in range(data.shape[0]):\n",
    "        north, east, alt, d_north, d_east, d_alt = data[i, :]\n",
    "        \n",
    "        # Tarea: Extraer los límites de los obstáculos y colocarlos en una lista\n",
    "        obstacle = None\n",
    "        # NOTE: The order of the points matters since\n",
    "        # `shapely` draws the sequentially from point to point.\n",
    "        # If the area of the polygon is 0 you've likely got a weird order.\n",
    "        \n",
    "        # Determinar las esquinas del polígono como una lista de tuplas\n",
    "        corners = None \n",
    "        \n",
    "        # Tarea: Determinar la altura del polígono\n",
    "        height = None\n",
    "\n",
    "        # Tarea: Definir polígonos a partir de las esquinas\n",
    "        # Tip: https://shapely.readthedocs.io/en/stable/manual.html#polygons\n",
    "        #poly = None\n",
    "        polygons.append((poly, height))\n",
    "\n",
    "    return polygons"
   ]
  },
  {
   "cell_type": "code",
   "execution_count": null,
   "metadata": {},
   "outputs": [],
   "source": [
    "polygons = extract_polygons(data)"
   ]
  },
  {
   "cell_type": "markdown",
   "metadata": {},
   "source": [
    "## Muestrear puntos 3D\n",
    "\n",
    "A continuación generaremos un conjunto de muestras aleatorias dentro de los límites del mapa. \n",
    "\n",
    "Lo primero es obtener los límites. Dichos límites los podemos obtener a partir de los valores máximos y mínimos del mapa. Para ello podemos hacer uso de las funciones de *numpy* *min* y *max*. Recordemos también que cada renglón de datos contiene:\n",
    "[posX, posY, posZ, halfSizeX, halfSizeY, halfSizeZ]. Por lo tanto, debemos combinar la posición con el ancho del objeto."
   ]
  },
  {
   "cell_type": "code",
   "execution_count": null,
   "metadata": {},
   "outputs": [],
   "source": [
    "xmin = None\n",
    "xmax = None\n",
    "\n",
    "ymin = None\n",
    "ymax = None\n",
    "\n",
    "zmin = 0\n",
    "# Limit the z axis for the visualization\n",
    "zmax = 10\n",
    "\n",
    "print(\"X\")\n",
    "print(\"min = {0}, max = {1}\\n\".format(xmin, xmax))\n",
    "\n",
    "print(\"Y\")\n",
    "print(\"min = {0}, max = {1}\\n\".format(ymin, ymax))\n",
    "\n",
    "print(\"Z\")\n",
    "print(\"min = {0}, max = {1}\".format(zmin, zmax))"
   ]
  },
  {
   "cell_type": "markdown",
   "metadata": {},
   "source": [
    "A continuación muestrearemos el espacio usando una función de distribución uniforme. La distribución uniforme nos garantiza que eventualmente muestrearemos todo el espacio. Para ello podemos usar la función de *numpy* *random.uniform*. Las muestras deben de quedar en una lista de tuplas. "
   ]
  },
  {
   "cell_type": "code",
   "execution_count": null,
   "metadata": {},
   "outputs": [],
   "source": [
    "num_samples = 100\n",
    "\n",
    "xvals = None\n",
    "yvals = None\n",
    "zvals = None\n",
    "\n",
    "#Tip: zip de tuplas\n",
    "samples = None"
   ]
  },
  {
   "cell_type": "code",
   "execution_count": null,
   "metadata": {},
   "outputs": [],
   "source": [
    "samples[:5]"
   ]
  },
  {
   "cell_type": "markdown",
   "metadata": {},
   "source": [
    "## Eliminar puntos que colisionan con los obstáculos\n",
    "\n",
    "Prior to remove a point we must determine whether it collides with any obstacle. Complete the `collides` function below. It should return `True` if the point collides with *any* obstacle and `False` if no collision is detected."
   ]
  },
  {
   "cell_type": "code",
   "execution_count": null,
   "metadata": {},
   "outputs": [],
   "source": [
    "def collides(polygons, point):   \n",
    "    # Tarea: Determinar cuáles puntos están en colisión con los polígonos\n",
    "    collide = False\n",
    "    x,y,z = point\n",
    "    p = Point(x, y)\n",
    "    # Para todos los polígonos en pyligons\n",
    "        # Tarea: verifica si un polígono contiene el punto y es menor que la altura, \n",
    "        # entonces establece la colisión a True\n",
    "            \n",
    "    return collide"
   ]
  },
  {
   "cell_type": "markdown",
   "metadata": {},
   "source": [
    "Use `collides` for all points in the sample."
   ]
  },
  {
   "cell_type": "code",
   "execution_count": null,
   "metadata": {},
   "outputs": [],
   "source": [
    "t0 = time.time()\n",
    "to_keep = []\n",
    "for point in samples:\n",
    "    if not collides(polygons, point):\n",
    "        to_keep.append(point)\n",
    "time_taken = time.time() - t0\n",
    "print(\"Time taken {0} seconds ...\", time_taken)"
   ]
  },
  {
   "cell_type": "code",
   "execution_count": null,
   "metadata": {},
   "outputs": [],
   "source": [
    "print(len(to_keep), \"puntos válidos.\")"
   ]
  },
  {
   "cell_type": "markdown",
   "metadata": {},
   "source": [
    "## Visualizar los puntos\n",
    "\n",
    "Ahora solo visualizaremos los puntos."
   ]
  },
  {
   "cell_type": "code",
   "execution_count": null,
   "metadata": {},
   "outputs": [],
   "source": [
    "from grid import create_grid\n",
    "grid = create_grid(data, zmax, 1)"
   ]
  },
  {
   "cell_type": "code",
   "execution_count": null,
   "metadata": {},
   "outputs": [],
   "source": [
    "fig = plt.figure()\n",
    "\n",
    "plt.imshow(grid, cmap='Greys', origin='lower')\n",
    "\n",
    "nmin = np.min(data[:, 0])\n",
    "emin = np.min(data[:, 1])\n",
    "\n",
    "# Draw points\n",
    "all_pts = np.array(to_keep)\n",
    "north_vals = all_pts[:,0]\n",
    "east_vals = all_pts[:,1]\n",
    "plt.scatter(east_vals - emin, north_vals - nmin, c='green')\n",
    "\n",
    "plt.ylabel('NORTH')\n",
    "plt.xlabel('EAST')\n",
    "\n",
    "plt.show()"
   ]
  },
  {
   "cell_type": "markdown",
   "metadata": {},
   "source": [
    "## Epilogue\n",
    "\n",
    "You may have noticed removing points can be quite lengthy. In the implementation provided here we're naively checking to see if the point collides with each polygon when in reality it can only collide with one, the one that's closest to the point. The question then becomes \n",
    "\n",
    "\"How do we efficiently find the closest polygon to the point?\"\n",
    "\n",
    "One such approach is to use a *[k-d tree](https://en.wikipedia.org/wiki/K-d_tree)*, a space-partitioning data structure which allows search queries in $O(log(n))$. The *k-d tree* achieves this by cutting the search space in half on each step of a query.\n",
    "\n",
    "This would bring the total algorithm time down to $O(m * log(n))$ from $O(m*n)$.\n",
    "\n",
    "The scikit-learn library has an efficient implementation [readily available](http://scikit-learn.org/stable/modules/generated/sklearn.neighbors.KDTree.html#sklearn.neighbors.KDTree)."
   ]
  },
  {
   "cell_type": "code",
   "execution_count": null,
   "metadata": {},
   "outputs": [],
   "source": []
  },
  {
   "cell_type": "code",
   "execution_count": null,
   "metadata": {},
   "outputs": [],
   "source": []
  }
 ],
 "metadata": {
  "kernelspec": {
   "display_name": "Python 3 (ipykernel)",
   "language": "python",
   "name": "python3"
  },
  "language_info": {
   "codemirror_mode": {
    "name": "ipython",
    "version": 3
   },
   "file_extension": ".py",
   "mimetype": "text/x-python",
   "name": "python",
   "nbconvert_exporter": "python",
   "pygments_lexer": "ipython3",
   "version": "3.7.11"
  }
 },
 "nbformat": 4,
 "nbformat_minor": 2
}
