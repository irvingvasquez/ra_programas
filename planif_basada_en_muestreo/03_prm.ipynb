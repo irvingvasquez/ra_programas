{
 "cells": [
  {
   "cell_type": "markdown",
   "metadata": {},
   "source": [
    "# Implementación del PRM (Probabilistic Roadmap)\n",
    "\n",
    "Propuesto por Kavraki y otros [1], el PRM (del inglés Probabilistic Roadmap) es un algoritmo de planificación basado en muestreo. Éste basa su funcionamiento en construir un grafo de caminos en el espacio libre y despúes utilizar este mismo grafo para encontrar las rutas.\n",
    "\n",
    "En este programa se implementan las dos etapas del PRM, la construcción y la consulta, para la cual se usa la heurística A*.\n",
    "\n",
    "1. Load the obstacle map data\n",
    "2. Sample nodes (use KDTrees here)\n",
    "3. Connect nodes (use KDTrees here)\n",
    "4. Visualize graph\n",
    "5. Define heuristic\n",
    "6. Define search method\n",
    "7. Execute and visualize\n",
    "\n",
    "We'll load the data for you and provide a template for visualization.\n",
    "\n",
    "[1] Kavraki, L. E., Svestka, P., Latombe, J. C., & Overmars, M. H. (1996). Probabilistic roadmaps for path planning in high-dimensional configuration spaces. IEEE transactions on Robotics and Automation, 12(4), 566-580."
   ]
  },
  {
   "cell_type": "code",
   "execution_count": null,
   "metadata": {
    "scrolled": true
   },
   "outputs": [],
   "source": [
    "# Verificar que tengamos networkx\n",
    "# import sys\n",
    "#!{sys.executable} -m pip install -I networkx==2.1\n",
    "import pkg_resources\n",
    "#pkg_resources.require(\"networkx==2.1\")\n",
    "import networkx as nx\n",
    "\n",
    "#!pip install sklearn"
   ]
  },
  {
   "cell_type": "code",
   "execution_count": null,
   "metadata": {},
   "outputs": [],
   "source": [
    "nx.__version__ # should be 2.1"
   ]
  },
  {
   "cell_type": "code",
   "execution_count": null,
   "metadata": {},
   "outputs": [],
   "source": [
    "# Importar paquetes\n",
    "import numpy as np\n",
    "import matplotlib.pyplot as plt\n",
    "from shapely.geometry import Polygon, Point, LineString\n",
    "from queue import PriorityQueue\n",
    "from sklearn.neighbors import KDTree\n",
    "import time\n",
    "# funciones previamente programadas\n",
    "import muestreo \n",
    "\n",
    "%matplotlib inline\n",
    "plt.rcParams['figure.figsize'] = 14, 14"
   ]
  },
  {
   "cell_type": "code",
   "execution_count": null,
   "metadata": {},
   "outputs": [],
   "source": [
    "# Cargamos los datos utilizados en el programa anterior.\n",
    "filename = 'data_reduced.csv'\n",
    "data = np.loadtxt(filename, delimiter=',', dtype='float64', skiprows=2)"
   ]
  },
  {
   "cell_type": "markdown",
   "metadata": {},
   "source": [
    "## Construcción\n",
    "### Muestreo aleatorio\n"
   ]
  },
  {
   "cell_type": "code",
   "execution_count": null,
   "metadata": {},
   "outputs": [],
   "source": [
    "def collides(polygons, tree, point):   \n",
    "    # Tarea: Determina si un punto está en colision con algún polígono\n",
    "    collide = False\n",
    "    x,y,z = point\n",
    "    # guarda en p un Punto definido por shapely\n",
    "    p = None\n",
    "    \n",
    "    # Tarea: Encuentra el centro del polígono más cercano\n",
    "    p_array = np.array([x,y])\n",
    "    idx = tree.query([p_array], k=1, return_distance = False)[0]\n",
    "    \n",
    "    poly = polygons[int(idx)]\n",
    "    polygon, height = poly\n",
    "    if polygon.contains(p):\n",
    "        if z < height:\n",
    "            collide = True\n",
    "            \n",
    "    return collide"
   ]
  },
  {
   "cell_type": "code",
   "execution_count": null,
   "metadata": {},
   "outputs": [],
   "source": [
    "# Se utilizan las funciones de muestreo ya programadas\n",
    "samples = muestreo.get_samples(data)\n",
    "print(samples[:5])\n",
    "\n",
    "# Create the centers of the polygons\n",
    "polygons, centers = muestreo.extract_polygons_and_centers(data)\n",
    "print(centers[:10])\n",
    "\n"
   ]
  },
  {
   "cell_type": "code",
   "execution_count": null,
   "metadata": {},
   "outputs": [],
   "source": [
    "# then use KDTree to find nearest neighbor polygon and test for collision\n",
    "# Tip: use un KDTree\n",
    "tree = KDTree(centers)"
   ]
  },
  {
   "cell_type": "code",
   "execution_count": null,
   "metadata": {},
   "outputs": [],
   "source": [
    "# Mantener solo las muestras que no están en colisión\n",
    "t0 = time.time()\n",
    "to_keep = []\n",
    "for point in samples:\n",
    "    # Verificamos colisión\n",
    "    if not collides(polygons, tree, point):\n",
    "        to_keep.append(point)\n",
    "time_taken = time.time() - t0\n",
    "print(\"Time taken {0} seconds ...\", time_taken)"
   ]
  },
  {
   "cell_type": "code",
   "execution_count": null,
   "metadata": {},
   "outputs": [],
   "source": [
    "print(len(to_keep), \"muestras libres de colisión\")"
   ]
  },
  {
   "cell_type": "markdown",
   "metadata": {},
   "source": [
    "### Conexión de nodos\n",
    "\n",
    "Now we have to connect the nodes. There are many ways they might be done, it's completely up to you. The only restriction being no edge connecting two nodes may pass through an obstacle.\n",
    "\n",
    "NOTE: You can use `LineString()` from the `shapely` library to create a line. Additionally, `shapely` geometry objects have a method `.crosses` which return `True` if the geometries cross paths, for instance your `LineString()` with an obstacle `Polygon()`!\n",
    "\n",
    "**Suggested method**\n",
    "\n",
    "1. Cast nodes into a graph called \"g\" using networkx\n",
    "2. Write a method \"can_connect()\" that:\n",
    "    1. casts two points as a shapely LineString() object\n",
    "    2. tests for collision with a shapely Polygon() object\n",
    "    3. returns True if connection is possible, False otherwise\n",
    "3. write a method \"create_graph()\" that:\n",
    "    1. defines a networkx graph as g = Graph()\n",
    "    2. defines a tree = KDTree(nodes)\n",
    "    3. test for connectivity between each node and \n",
    "    4. of it's nearest neighbors\n",
    "    5. if nodes are connectable, add an edge to graph\n",
    "    6. Iterate through all candidate nodes!"
   ]
  },
  {
   "cell_type": "code",
   "execution_count": null,
   "metadata": {},
   "outputs": [],
   "source": [
    "def can_connect(p1, p2, obstacles):\n",
    "    x1,y1,z1 = p1\n",
    "    x2,y2,z2 = p2\n",
    "    \n",
    "    # Construye una linea 2D\n",
    "    # https://shapely.readthedocs.io/en/stable/manual.html#linestrings\n",
    "    line = None\n",
    "    free = True\n",
    "    \n",
    "    # Para cada uno de los obstáculos \n",
    "        # descomponer el obstáculo en su polígono y altura\n",
    "        # Verificar si la linea cruza el polígono\n",
    "            #Establecer a false\n",
    "    \n",
    "    return free"
   ]
  },
  {
   "cell_type": "code",
   "execution_count": null,
   "metadata": {},
   "outputs": [],
   "source": [
    "def create_graph(milestones, polygons, k):\n",
    "    array_milestones = np.array(milestones)\n",
    "    #print(array_milestones[:10])\n",
    "    m_tree = KDTree(array_milestones)\n",
    "    g = nx.Graph()\n",
    "    \n",
    "    for mil in milestones:\n",
    "        #print(mil)\n",
    "        mil_array = np.array(mil)\n",
    "        #print(mil_array)\n",
    "        \n",
    "        # find the nearest k milestones\n",
    "        distances, indexes = m_tree.query([mil_array], k)\n",
    "\n",
    "        #print(dist)\n",
    "        #print(idx)\n",
    "        for dist, idx in zip(distances[0], indexes[0]):\n",
    "            #print(dist)\n",
    "            #print(idx)\n",
    "            if dist > 0:\n",
    "                if can_connect(mil, milestones[int(idx)], polygons):\n",
    "                    # Agregar una arista a partir de \"mil, milestones[int(idx)], weight=dist\"\n",
    "                    #https://networkx.org/documentation/stable/reference/classes/generated/networkx.Graph.add_edge.html\n",
    "        \n",
    "    return g"
   ]
  },
  {
   "cell_type": "code",
   "execution_count": null,
   "metadata": {},
   "outputs": [],
   "source": [
    "# TODO: create the graph\n",
    "# Define un k\n",
    "k = None\n",
    "g = create_graph(to_keep, polygons, k)"
   ]
  },
  {
   "cell_type": "markdown",
   "metadata": {},
   "source": [
    "### Visualización"
   ]
  },
  {
   "cell_type": "code",
   "execution_count": null,
   "metadata": {},
   "outputs": [],
   "source": [
    "# Create a grid map of the world\n",
    "from grid import create_grid\n",
    "# This will create a grid map at 1 m above ground level\n",
    "grid = create_grid(data, 1, 1)\n",
    "\n",
    "fig = plt.figure()\n",
    "\n",
    "plt.imshow(grid, cmap='Greys', origin='lower')\n",
    "\n",
    "nmin = np.min(data[:, 0])\n",
    "emin = np.min(data[:, 1])\n",
    "\n",
    "# If you have a graph called \"g\" these plots should work\n",
    "# Draw edges\n",
    "for (n1, n2) in g.edges:\n",
    "    plt.plot([n1[1] - emin, n2[1] - emin], [n1[0] - nmin, n2[0] - nmin], 'black' , alpha=0.5)\n",
    "\n",
    "# Draw all nodes connected or not in blue\n",
    "for n1 in to_keep:\n",
    "    plt.scatter(n1[1] - emin, n1[0] - nmin, c='red')\n",
    "    \n",
    "# Draw connected nodes in red\n",
    "for n1 in g.nodes:\n",
    "    plt.scatter(n1[1] - emin, n1[0] - nmin, c='green')\n",
    "    \n",
    "\n",
    "\n",
    "plt.xlabel('NORTH')\n",
    "plt.ylabel('EAST')\n",
    "\n",
    "plt.show()"
   ]
  },
  {
   "cell_type": "markdown",
   "metadata": {},
   "source": [
    "## Consulta de ruta\n",
    "\n",
    "### Implementación de A*\n",
    "\n",
    "Deinición de la heuristica"
   ]
  },
  {
   "cell_type": "code",
   "execution_count": null,
   "metadata": {},
   "outputs": [],
   "source": [
    "import numpy.linalg as LA\n",
    "\n",
    "def heuristic(n1, n2):\n",
    "    # Tarea: Definir la distancia a usar\n",
    "    # Ti: https://numpy.org/doc/stable/reference/generated/numpy.linalg.norm.html \n",
    "    return None"
   ]
  },
  {
   "cell_type": "markdown",
   "metadata": {},
   "source": [
    "Algoritmo de búsqueda"
   ]
  },
  {
   "cell_type": "code",
   "execution_count": null,
   "metadata": {},
   "outputs": [],
   "source": [
    "def a_star(graph, heuristic, start, goal):\n",
    "    \"\"\"Modified A* to work with NetworkX graphs.\"\"\"\n",
    "\n",
    "    path = []\n",
    "    queue = PriorityQueue()\n",
    "    queue.put((0, start))\n",
    "    visited = set(start)\n",
    "\n",
    "    branch = {}\n",
    "    found = False\n",
    "    \n",
    "    while not queue.empty():\n",
    "        item = queue.get()\n",
    "        current_cost = item[0]\n",
    "        current_node = item[1]\n",
    "\n",
    "        if current_node == goal:        \n",
    "            print('Found a path.')\n",
    "            found = True\n",
    "            break\n",
    "        else:\n",
    "            for next_node in graph[current_node]:\n",
    "                cost = graph.edges[current_node, next_node]['weight']\n",
    "                new_cost = current_cost + cost + heuristic(next_node, goal)\n",
    "                \n",
    "                if next_node not in visited:                \n",
    "                    visited.add(next_node)               \n",
    "                    queue.put((new_cost, next_node))\n",
    "                    \n",
    "                    branch[next_node] = (new_cost, current_node)\n",
    "             \n",
    "    path = []\n",
    "    path_cost = 0\n",
    "    if found:\n",
    "        \n",
    "        # retrace steps\n",
    "        path = []\n",
    "        n = goal\n",
    "        path_cost = branch[n][0]\n",
    "        while branch[n][1] != start:\n",
    "            path.append(branch[n][1])\n",
    "            n = branch[n][1]\n",
    "        path.append(branch[n][1])\n",
    "            \n",
    "    return path[::-1], path_cost\n"
   ]
  },
  {
   "cell_type": "code",
   "execution_count": null,
   "metadata": {},
   "outputs": [],
   "source": [
    "start = list(g.nodes)[0]\n",
    "k = np.random.randint(len(g.nodes))\n",
    "print(k, len(g.nodes))\n",
    "goal = list(g.nodes)[k]\n",
    "print('start', start)\n",
    "print('goal', goal)\n",
    "\n",
    "path, cost = a_star(g, heuristic, start, goal)\n",
    "print(len(path), path)\n",
    "\n",
    "path_pairs = zip(path[:-1], path[1:])\n",
    "for (n1, n2) in path_pairs:\n",
    "    print(n1, n2)"
   ]
  },
  {
   "cell_type": "markdown",
   "metadata": {},
   "source": [
    "# Prueba y visualización"
   ]
  },
  {
   "cell_type": "code",
   "execution_count": null,
   "metadata": {
    "scrolled": true
   },
   "outputs": [],
   "source": [
    "fig = plt.figure()\n",
    "\n",
    "plt.imshow(grid, cmap='Greys', origin='lower')\n",
    "\n",
    "nmin = np.min(data[:, 0])\n",
    "emin = np.min(data[:, 1])\n",
    "   \n",
    "# draw nodes\n",
    "for n1 in g.nodes:\n",
    "    plt.scatter(n1[1] - emin, n1[0] - nmin, c='green')\n",
    "    \n",
    "# draw edges\n",
    "for (n1, n2) in g.edges:\n",
    "    plt.plot([n1[1] - emin, n2[1] - emin], [n1[0] - nmin, n2[0] - nmin], 'grey')\n",
    "    \n",
    "# TODO: add code to visualize the path\n",
    "path_pairs = zip(path[:-1], path[1:])\n",
    "for (n1, n2) in path_pairs:\n",
    "    plt.plot([n1[1] - emin, n2[1] - emin], [n1[0] - nmin, n2[0] - nmin], 'orange', linewidth=3)\n",
    "    \n",
    "\n",
    "\n",
    "plt.xlabel('NORTH')\n",
    "plt.ylabel('EAST')\n",
    "\n",
    "plt.show()"
   ]
  },
  {
   "cell_type": "code",
   "execution_count": null,
   "metadata": {},
   "outputs": [],
   "source": []
  }
 ],
 "metadata": {
  "kernelspec": {
   "display_name": "Python 3 (ipykernel)",
   "language": "python",
   "name": "python3"
  },
  "language_info": {
   "codemirror_mode": {
    "name": "ipython",
    "version": 3
   },
   "file_extension": ".py",
   "mimetype": "text/x-python",
   "name": "python",
   "nbconvert_exporter": "python",
   "pygments_lexer": "ipython3",
   "version": "3.7.11"
  }
 },
 "nbformat": 4,
 "nbformat_minor": 2
}
